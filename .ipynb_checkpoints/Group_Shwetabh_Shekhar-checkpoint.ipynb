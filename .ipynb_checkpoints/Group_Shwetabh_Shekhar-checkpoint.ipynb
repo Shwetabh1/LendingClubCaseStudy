{
 "cells": [
  {
   "cell_type": "code",
   "execution_count": 2,
   "id": "76a9f691",
   "metadata": {},
   "outputs": [],
   "source": [
    "# import all the libraries necessary\n",
    "import pandas as pd\n",
    "import numpy as np\n",
    "import matplotlib.pyplot as plt\n",
    "import seaborn as sns"
   ]
  },
  {
   "cell_type": "code",
   "execution_count": 3,
   "id": "9b9bb8fa",
   "metadata": {},
   "outputs": [
    {
     "ename": "NameError",
     "evalue": "name 'pd' is not defined",
     "output_type": "error",
     "traceback": [
      "\u001b[0;31m---------------------------------------------------------------------------\u001b[0m",
      "\u001b[0;31mNameError\u001b[0m                                 Traceback (most recent call last)",
      "Input \u001b[0;32mIn [3]\u001b[0m, in \u001b[0;36m<module>\u001b[0;34m\u001b[0m\n\u001b[1;32m      1\u001b[0m \u001b[38;5;66;03m# read the input file\u001b[39;00m\n\u001b[0;32m----> 2\u001b[0m loan_df \u001b[38;5;241m=\u001b[39m \u001b[43mpd\u001b[49m\u001b[38;5;241m.\u001b[39mread_csv(\u001b[38;5;124m'\u001b[39m\u001b[38;5;124m~/Downloads/loan.csv\u001b[39m\u001b[38;5;124m'\u001b[39m)\n",
      "\u001b[0;31mNameError\u001b[0m: name 'pd' is not defined"
     ]
    }
   ],
   "source": [
    "# read the input file\n",
    "loan_df = pd.read_csv('~/Downloads/loan.csv')\n",
    "# observe the warning, it signifies that "
   ]
  },
  {
   "cell_type": "code",
   "execution_count": 4,
   "id": "8d95045e",
   "metadata": {},
   "outputs": [],
   "source": [
    "\n",
    "\n",
    "# read the file again with dtype as object, there will be no warnings.\n",
    "# we have the dataset\n",
    "\n"
   ]
  },
  {
   "cell_type": "code",
   "execution_count": null,
   "id": "dd7ab526",
   "metadata": {},
   "outputs": [],
   "source": [
    "# analyse the datset, to understand how it is\n",
    "# check the dimensions\n",
    "print(loan_df.shape)\n",
    "print(loan_df.info())\n",
    "print(loan_df.dtypes)\n",
    "# check the data \n",
    "df.head(10)\n",
    "\n",
    "# we need to first see how many columns have only null data. They don't server any value to let's remove it\n",
    "df.columns\n",
    "\n",
    "\n",
    "# check if entire rows have also less data\n",
    "\n",
    "loan_df = pd.read_csv('~/Downloads/loan.csv',dtype=object)\n",
    "\n",
    "df1 = df.dropna(how='all')\n",
    "print(df1)\n",
    "\n",
    "df1 = df.dropna(how='all', axis=1)\n",
    "print(df1)\n",
    "\n",
    "\n",
    "# again check the data\n",
    "\n",
    "# can we drop columns that have almost all values as null?\n",
    "# we can do that based on the threshold\n",
    "\n",
    "df1 = df.dropna(thresh=2)\n",
    "\n",
    "# now see the columns\n",
    "\n",
    "\n",
    "# all rows now have meaningful data\n",
    "\n",
    "# we can check for duplicate entries as well. Any columns that seem duplicate or row duplicate?"
   ]
  }
 ],
 "metadata": {
  "kernelspec": {
   "display_name": "Python 3 (ipykernel)",
   "language": "python",
   "name": "python3"
  },
  "language_info": {
   "codemirror_mode": {
    "name": "ipython",
    "version": 3
   },
   "file_extension": ".py",
   "mimetype": "text/x-python",
   "name": "python",
   "nbconvert_exporter": "python",
   "pygments_lexer": "ipython3",
   "version": "3.8.9"
  }
 },
 "nbformat": 4,
 "nbformat_minor": 5
}
