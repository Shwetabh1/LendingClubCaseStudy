{
 "cells": [
  {
   "cell_type": "markdown",
   "id": "6ee6f7b9",
   "metadata": {},
   "source": [
    "# GOAL:\n",
    "### Analyse the data set and figure out the driving factors for loan deafult."
   ]
  },
  {
   "cell_type": "code",
   "execution_count": 159,
   "id": "c675e0f9",
   "metadata": {},
   "outputs": [],
   "source": [
    "# import all the necessary libraries\n",
    "import pandas as pd\n",
    "import numpy as np\n",
    "import matplotlib.pyplot as plt\n",
    "import seaborn as sns"
   ]
  },
  {
   "cell_type": "code",
   "execution_count": 160,
   "id": "9b9bb8fa",
   "metadata": {},
   "outputs": [
    {
     "name": "stderr",
     "output_type": "stream",
     "text": [
      "/Users/shwetabh.shekhar/Library/Python/3.8/lib/python/site-packages/IPython/core/interactiveshell.py:3251: DtypeWarning: Columns (47) have mixed types.Specify dtype option on import or set low_memory=False.\n",
      "  exec(code_obj, self.user_global_ns, self.user_ns)\n"
     ]
    }
   ],
   "source": [
    "# read the input file\n",
    "loan_df = pd.read_csv('loan.csv')\n"
   ]
  },
  {
   "cell_type": "markdown",
   "id": "0d2d8d58",
   "metadata": {},
   "source": [
    "#### NOTICE THE WARNING ABOVE\n",
    "- Observe the warning. It signifies that the file is huge and Pandas is not able to determine the column type of \n",
    "  each column because of it.\n",
    "- We can choose to ignore the warning or we can suppress it or we can fix it by reading the data as an object.\n",
    "- I am reading the file again with dtype as object, thus there will be no warnings."
   ]
  },
  {
   "cell_type": "code",
   "execution_count": 167,
   "id": "d344f4be",
   "metadata": {},
   "outputs": [],
   "source": [
    "loan_df = pd.read_csv('loan.csv', dtype=object)"
   ]
  },
  {
   "cell_type": "code",
   "execution_count": 168,
   "id": "dd7ab526",
   "metadata": {},
   "outputs": [
    {
     "name": "stdout",
     "output_type": "stream",
     "text": [
      "Rows and Columns (39717, 111)\n",
      "<class 'pandas.core.frame.DataFrame'>\n",
      "RangeIndex: 39717 entries, 0 to 39716\n",
      "Columns: 111 entries, id to total_il_high_credit_limit\n",
      "dtypes: object(111)\n",
      "memory usage: 33.6+ MB\n",
      "None\n"
     ]
    }
   ],
   "source": [
    "# check the dimensions and other information\n",
    "print('Rows and Columns', loan_df.shape)\n",
    "print(loan_df.info())"
   ]
  },
  {
   "cell_type": "code",
   "execution_count": 169,
   "id": "30a2b0bd",
   "metadata": {},
   "outputs": [
    {
     "data": {
      "text/html": [
       "<div>\n",
       "<style scoped>\n",
       "    .dataframe tbody tr th:only-of-type {\n",
       "        vertical-align: middle;\n",
       "    }\n",
       "\n",
       "    .dataframe tbody tr th {\n",
       "        vertical-align: top;\n",
       "    }\n",
       "\n",
       "    .dataframe thead th {\n",
       "        text-align: right;\n",
       "    }\n",
       "</style>\n",
       "<table border=\"1\" class=\"dataframe\">\n",
       "  <thead>\n",
       "    <tr style=\"text-align: right;\">\n",
       "      <th></th>\n",
       "      <th>id</th>\n",
       "      <th>member_id</th>\n",
       "      <th>loan_amnt</th>\n",
       "      <th>funded_amnt</th>\n",
       "      <th>funded_amnt_inv</th>\n",
       "      <th>term</th>\n",
       "      <th>int_rate</th>\n",
       "      <th>installment</th>\n",
       "      <th>grade</th>\n",
       "      <th>sub_grade</th>\n",
       "      <th>emp_title</th>\n",
       "      <th>emp_length</th>\n",
       "      <th>home_ownership</th>\n",
       "      <th>annual_inc</th>\n",
       "      <th>verification_status</th>\n",
       "      <th>issue_d</th>\n",
       "      <th>loan_status</th>\n",
       "      <th>pymnt_plan</th>\n",
       "      <th>url</th>\n",
       "      <th>desc</th>\n",
       "      <th>purpose</th>\n",
       "      <th>title</th>\n",
       "      <th>zip_code</th>\n",
       "      <th>addr_state</th>\n",
       "      <th>dti</th>\n",
       "      <th>delinq_2yrs</th>\n",
       "      <th>earliest_cr_line</th>\n",
       "      <th>inq_last_6mths</th>\n",
       "      <th>mths_since_last_delinq</th>\n",
       "      <th>mths_since_last_record</th>\n",
       "      <th>open_acc</th>\n",
       "      <th>pub_rec</th>\n",
       "      <th>revol_bal</th>\n",
       "      <th>revol_util</th>\n",
       "      <th>total_acc</th>\n",
       "      <th>initial_list_status</th>\n",
       "      <th>out_prncp</th>\n",
       "      <th>out_prncp_inv</th>\n",
       "      <th>total_pymnt</th>\n",
       "      <th>total_pymnt_inv</th>\n",
       "      <th>total_rec_prncp</th>\n",
       "      <th>total_rec_int</th>\n",
       "      <th>total_rec_late_fee</th>\n",
       "      <th>recoveries</th>\n",
       "      <th>collection_recovery_fee</th>\n",
       "      <th>last_pymnt_d</th>\n",
       "      <th>last_pymnt_amnt</th>\n",
       "      <th>next_pymnt_d</th>\n",
       "      <th>last_credit_pull_d</th>\n",
       "      <th>collections_12_mths_ex_med</th>\n",
       "      <th>mths_since_last_major_derog</th>\n",
       "      <th>policy_code</th>\n",
       "      <th>application_type</th>\n",
       "      <th>annual_inc_joint</th>\n",
       "      <th>dti_joint</th>\n",
       "      <th>verification_status_joint</th>\n",
       "      <th>acc_now_delinq</th>\n",
       "      <th>tot_coll_amt</th>\n",
       "      <th>tot_cur_bal</th>\n",
       "      <th>open_acc_6m</th>\n",
       "      <th>open_il_6m</th>\n",
       "      <th>open_il_12m</th>\n",
       "      <th>open_il_24m</th>\n",
       "      <th>mths_since_rcnt_il</th>\n",
       "      <th>total_bal_il</th>\n",
       "      <th>il_util</th>\n",
       "      <th>open_rv_12m</th>\n",
       "      <th>open_rv_24m</th>\n",
       "      <th>max_bal_bc</th>\n",
       "      <th>all_util</th>\n",
       "      <th>total_rev_hi_lim</th>\n",
       "      <th>inq_fi</th>\n",
       "      <th>total_cu_tl</th>\n",
       "      <th>inq_last_12m</th>\n",
       "      <th>acc_open_past_24mths</th>\n",
       "      <th>avg_cur_bal</th>\n",
       "      <th>bc_open_to_buy</th>\n",
       "      <th>bc_util</th>\n",
       "      <th>chargeoff_within_12_mths</th>\n",
       "      <th>delinq_amnt</th>\n",
       "      <th>mo_sin_old_il_acct</th>\n",
       "      <th>mo_sin_old_rev_tl_op</th>\n",
       "      <th>mo_sin_rcnt_rev_tl_op</th>\n",
       "      <th>mo_sin_rcnt_tl</th>\n",
       "      <th>mort_acc</th>\n",
       "      <th>mths_since_recent_bc</th>\n",
       "      <th>mths_since_recent_bc_dlq</th>\n",
       "      <th>mths_since_recent_inq</th>\n",
       "      <th>mths_since_recent_revol_delinq</th>\n",
       "      <th>num_accts_ever_120_pd</th>\n",
       "      <th>num_actv_bc_tl</th>\n",
       "      <th>num_actv_rev_tl</th>\n",
       "      <th>num_bc_sats</th>\n",
       "      <th>num_bc_tl</th>\n",
       "      <th>num_il_tl</th>\n",
       "      <th>num_op_rev_tl</th>\n",
       "      <th>num_rev_accts</th>\n",
       "      <th>num_rev_tl_bal_gt_0</th>\n",
       "      <th>num_sats</th>\n",
       "      <th>num_tl_120dpd_2m</th>\n",
       "      <th>num_tl_30dpd</th>\n",
       "      <th>num_tl_90g_dpd_24m</th>\n",
       "      <th>num_tl_op_past_12m</th>\n",
       "      <th>pct_tl_nvr_dlq</th>\n",
       "      <th>percent_bc_gt_75</th>\n",
       "      <th>pub_rec_bankruptcies</th>\n",
       "      <th>tax_liens</th>\n",
       "      <th>tot_hi_cred_lim</th>\n",
       "      <th>total_bal_ex_mort</th>\n",
       "      <th>total_bc_limit</th>\n",
       "      <th>total_il_high_credit_limit</th>\n",
       "    </tr>\n",
       "  </thead>\n",
       "  <tbody>\n",
       "    <tr>\n",
       "      <th>0</th>\n",
       "      <td>1077501</td>\n",
       "      <td>1296599</td>\n",
       "      <td>5000</td>\n",
       "      <td>5000</td>\n",
       "      <td>4975</td>\n",
       "      <td>36 months</td>\n",
       "      <td>10.65%</td>\n",
       "      <td>162.87</td>\n",
       "      <td>B</td>\n",
       "      <td>B2</td>\n",
       "      <td>NaN</td>\n",
       "      <td>10+ years</td>\n",
       "      <td>RENT</td>\n",
       "      <td>24000</td>\n",
       "      <td>Verified</td>\n",
       "      <td>Dec-11</td>\n",
       "      <td>Fully Paid</td>\n",
       "      <td>n</td>\n",
       "      <td>https://lendingclub.com/browse/loanDetail.acti...</td>\n",
       "      <td>Borrower added on 12/22/11 &gt; I need to upgra...</td>\n",
       "      <td>credit_card</td>\n",
       "      <td>Computer</td>\n",
       "      <td>860xx</td>\n",
       "      <td>AZ</td>\n",
       "      <td>27.65</td>\n",
       "      <td>0</td>\n",
       "      <td>Jan-85</td>\n",
       "      <td>1</td>\n",
       "      <td>NaN</td>\n",
       "      <td>NaN</td>\n",
       "      <td>3</td>\n",
       "      <td>0</td>\n",
       "      <td>13648</td>\n",
       "      <td>83.70%</td>\n",
       "      <td>9</td>\n",
       "      <td>f</td>\n",
       "      <td>0</td>\n",
       "      <td>0</td>\n",
       "      <td>5863.155187</td>\n",
       "      <td>5833.84</td>\n",
       "      <td>5000</td>\n",
       "      <td>863.16</td>\n",
       "      <td>0</td>\n",
       "      <td>0</td>\n",
       "      <td>0</td>\n",
       "      <td>Jan-15</td>\n",
       "      <td>171.62</td>\n",
       "      <td>NaN</td>\n",
       "      <td>May-16</td>\n",
       "      <td>0</td>\n",
       "      <td>NaN</td>\n",
       "      <td>1</td>\n",
       "      <td>INDIVIDUAL</td>\n",
       "      <td>NaN</td>\n",
       "      <td>NaN</td>\n",
       "      <td>NaN</td>\n",
       "      <td>0</td>\n",
       "      <td>NaN</td>\n",
       "      <td>NaN</td>\n",
       "      <td>NaN</td>\n",
       "      <td>NaN</td>\n",
       "      <td>NaN</td>\n",
       "      <td>NaN</td>\n",
       "      <td>NaN</td>\n",
       "      <td>NaN</td>\n",
       "      <td>NaN</td>\n",
       "      <td>NaN</td>\n",
       "      <td>NaN</td>\n",
       "      <td>NaN</td>\n",
       "      <td>NaN</td>\n",
       "      <td>NaN</td>\n",
       "      <td>NaN</td>\n",
       "      <td>NaN</td>\n",
       "      <td>NaN</td>\n",
       "      <td>NaN</td>\n",
       "      <td>NaN</td>\n",
       "      <td>NaN</td>\n",
       "      <td>NaN</td>\n",
       "      <td>0</td>\n",
       "      <td>0</td>\n",
       "      <td>NaN</td>\n",
       "      <td>NaN</td>\n",
       "      <td>NaN</td>\n",
       "      <td>NaN</td>\n",
       "      <td>NaN</td>\n",
       "      <td>NaN</td>\n",
       "      <td>NaN</td>\n",
       "      <td>NaN</td>\n",
       "      <td>NaN</td>\n",
       "      <td>NaN</td>\n",
       "      <td>NaN</td>\n",
       "      <td>NaN</td>\n",
       "      <td>NaN</td>\n",
       "      <td>NaN</td>\n",
       "      <td>NaN</td>\n",
       "      <td>NaN</td>\n",
       "      <td>NaN</td>\n",
       "      <td>NaN</td>\n",
       "      <td>NaN</td>\n",
       "      <td>NaN</td>\n",
       "      <td>NaN</td>\n",
       "      <td>NaN</td>\n",
       "      <td>NaN</td>\n",
       "      <td>NaN</td>\n",
       "      <td>NaN</td>\n",
       "      <td>0</td>\n",
       "      <td>0</td>\n",
       "      <td>NaN</td>\n",
       "      <td>NaN</td>\n",
       "      <td>NaN</td>\n",
       "      <td>NaN</td>\n",
       "    </tr>\n",
       "    <tr>\n",
       "      <th>1</th>\n",
       "      <td>1077430</td>\n",
       "      <td>1314167</td>\n",
       "      <td>2500</td>\n",
       "      <td>2500</td>\n",
       "      <td>2500</td>\n",
       "      <td>60 months</td>\n",
       "      <td>15.27%</td>\n",
       "      <td>59.83</td>\n",
       "      <td>C</td>\n",
       "      <td>C4</td>\n",
       "      <td>Ryder</td>\n",
       "      <td>&lt; 1 year</td>\n",
       "      <td>RENT</td>\n",
       "      <td>30000</td>\n",
       "      <td>Source Verified</td>\n",
       "      <td>Dec-11</td>\n",
       "      <td>Charged Off</td>\n",
       "      <td>n</td>\n",
       "      <td>https://lendingclub.com/browse/loanDetail.acti...</td>\n",
       "      <td>Borrower added on 12/22/11 &gt; I plan to use t...</td>\n",
       "      <td>car</td>\n",
       "      <td>bike</td>\n",
       "      <td>309xx</td>\n",
       "      <td>GA</td>\n",
       "      <td>1</td>\n",
       "      <td>0</td>\n",
       "      <td>Apr-99</td>\n",
       "      <td>5</td>\n",
       "      <td>NaN</td>\n",
       "      <td>NaN</td>\n",
       "      <td>3</td>\n",
       "      <td>0</td>\n",
       "      <td>1687</td>\n",
       "      <td>9.40%</td>\n",
       "      <td>4</td>\n",
       "      <td>f</td>\n",
       "      <td>0</td>\n",
       "      <td>0</td>\n",
       "      <td>1008.71</td>\n",
       "      <td>1008.71</td>\n",
       "      <td>456.46</td>\n",
       "      <td>435.17</td>\n",
       "      <td>0</td>\n",
       "      <td>117.08</td>\n",
       "      <td>1.11</td>\n",
       "      <td>Apr-13</td>\n",
       "      <td>119.66</td>\n",
       "      <td>NaN</td>\n",
       "      <td>Sep-13</td>\n",
       "      <td>0</td>\n",
       "      <td>NaN</td>\n",
       "      <td>1</td>\n",
       "      <td>INDIVIDUAL</td>\n",
       "      <td>NaN</td>\n",
       "      <td>NaN</td>\n",
       "      <td>NaN</td>\n",
       "      <td>0</td>\n",
       "      <td>NaN</td>\n",
       "      <td>NaN</td>\n",
       "      <td>NaN</td>\n",
       "      <td>NaN</td>\n",
       "      <td>NaN</td>\n",
       "      <td>NaN</td>\n",
       "      <td>NaN</td>\n",
       "      <td>NaN</td>\n",
       "      <td>NaN</td>\n",
       "      <td>NaN</td>\n",
       "      <td>NaN</td>\n",
       "      <td>NaN</td>\n",
       "      <td>NaN</td>\n",
       "      <td>NaN</td>\n",
       "      <td>NaN</td>\n",
       "      <td>NaN</td>\n",
       "      <td>NaN</td>\n",
       "      <td>NaN</td>\n",
       "      <td>NaN</td>\n",
       "      <td>NaN</td>\n",
       "      <td>NaN</td>\n",
       "      <td>0</td>\n",
       "      <td>0</td>\n",
       "      <td>NaN</td>\n",
       "      <td>NaN</td>\n",
       "      <td>NaN</td>\n",
       "      <td>NaN</td>\n",
       "      <td>NaN</td>\n",
       "      <td>NaN</td>\n",
       "      <td>NaN</td>\n",
       "      <td>NaN</td>\n",
       "      <td>NaN</td>\n",
       "      <td>NaN</td>\n",
       "      <td>NaN</td>\n",
       "      <td>NaN</td>\n",
       "      <td>NaN</td>\n",
       "      <td>NaN</td>\n",
       "      <td>NaN</td>\n",
       "      <td>NaN</td>\n",
       "      <td>NaN</td>\n",
       "      <td>NaN</td>\n",
       "      <td>NaN</td>\n",
       "      <td>NaN</td>\n",
       "      <td>NaN</td>\n",
       "      <td>NaN</td>\n",
       "      <td>NaN</td>\n",
       "      <td>NaN</td>\n",
       "      <td>NaN</td>\n",
       "      <td>0</td>\n",
       "      <td>0</td>\n",
       "      <td>NaN</td>\n",
       "      <td>NaN</td>\n",
       "      <td>NaN</td>\n",
       "      <td>NaN</td>\n",
       "    </tr>\n",
       "    <tr>\n",
       "      <th>2</th>\n",
       "      <td>1077175</td>\n",
       "      <td>1313524</td>\n",
       "      <td>2400</td>\n",
       "      <td>2400</td>\n",
       "      <td>2400</td>\n",
       "      <td>36 months</td>\n",
       "      <td>15.96%</td>\n",
       "      <td>84.33</td>\n",
       "      <td>C</td>\n",
       "      <td>C5</td>\n",
       "      <td>NaN</td>\n",
       "      <td>10+ years</td>\n",
       "      <td>RENT</td>\n",
       "      <td>12252</td>\n",
       "      <td>Not Verified</td>\n",
       "      <td>Dec-11</td>\n",
       "      <td>Fully Paid</td>\n",
       "      <td>n</td>\n",
       "      <td>https://lendingclub.com/browse/loanDetail.acti...</td>\n",
       "      <td>NaN</td>\n",
       "      <td>small_business</td>\n",
       "      <td>real estate business</td>\n",
       "      <td>606xx</td>\n",
       "      <td>IL</td>\n",
       "      <td>8.72</td>\n",
       "      <td>0</td>\n",
       "      <td>Nov-01</td>\n",
       "      <td>2</td>\n",
       "      <td>NaN</td>\n",
       "      <td>NaN</td>\n",
       "      <td>2</td>\n",
       "      <td>0</td>\n",
       "      <td>2956</td>\n",
       "      <td>98.50%</td>\n",
       "      <td>10</td>\n",
       "      <td>f</td>\n",
       "      <td>0</td>\n",
       "      <td>0</td>\n",
       "      <td>3005.666844</td>\n",
       "      <td>3005.67</td>\n",
       "      <td>2400</td>\n",
       "      <td>605.67</td>\n",
       "      <td>0</td>\n",
       "      <td>0</td>\n",
       "      <td>0</td>\n",
       "      <td>Jun-14</td>\n",
       "      <td>649.91</td>\n",
       "      <td>NaN</td>\n",
       "      <td>May-16</td>\n",
       "      <td>0</td>\n",
       "      <td>NaN</td>\n",
       "      <td>1</td>\n",
       "      <td>INDIVIDUAL</td>\n",
       "      <td>NaN</td>\n",
       "      <td>NaN</td>\n",
       "      <td>NaN</td>\n",
       "      <td>0</td>\n",
       "      <td>NaN</td>\n",
       "      <td>NaN</td>\n",
       "      <td>NaN</td>\n",
       "      <td>NaN</td>\n",
       "      <td>NaN</td>\n",
       "      <td>NaN</td>\n",
       "      <td>NaN</td>\n",
       "      <td>NaN</td>\n",
       "      <td>NaN</td>\n",
       "      <td>NaN</td>\n",
       "      <td>NaN</td>\n",
       "      <td>NaN</td>\n",
       "      <td>NaN</td>\n",
       "      <td>NaN</td>\n",
       "      <td>NaN</td>\n",
       "      <td>NaN</td>\n",
       "      <td>NaN</td>\n",
       "      <td>NaN</td>\n",
       "      <td>NaN</td>\n",
       "      <td>NaN</td>\n",
       "      <td>NaN</td>\n",
       "      <td>0</td>\n",
       "      <td>0</td>\n",
       "      <td>NaN</td>\n",
       "      <td>NaN</td>\n",
       "      <td>NaN</td>\n",
       "      <td>NaN</td>\n",
       "      <td>NaN</td>\n",
       "      <td>NaN</td>\n",
       "      <td>NaN</td>\n",
       "      <td>NaN</td>\n",
       "      <td>NaN</td>\n",
       "      <td>NaN</td>\n",
       "      <td>NaN</td>\n",
       "      <td>NaN</td>\n",
       "      <td>NaN</td>\n",
       "      <td>NaN</td>\n",
       "      <td>NaN</td>\n",
       "      <td>NaN</td>\n",
       "      <td>NaN</td>\n",
       "      <td>NaN</td>\n",
       "      <td>NaN</td>\n",
       "      <td>NaN</td>\n",
       "      <td>NaN</td>\n",
       "      <td>NaN</td>\n",
       "      <td>NaN</td>\n",
       "      <td>NaN</td>\n",
       "      <td>NaN</td>\n",
       "      <td>0</td>\n",
       "      <td>0</td>\n",
       "      <td>NaN</td>\n",
       "      <td>NaN</td>\n",
       "      <td>NaN</td>\n",
       "      <td>NaN</td>\n",
       "    </tr>\n",
       "    <tr>\n",
       "      <th>3</th>\n",
       "      <td>1076863</td>\n",
       "      <td>1277178</td>\n",
       "      <td>10000</td>\n",
       "      <td>10000</td>\n",
       "      <td>10000</td>\n",
       "      <td>36 months</td>\n",
       "      <td>13.49%</td>\n",
       "      <td>339.31</td>\n",
       "      <td>C</td>\n",
       "      <td>C1</td>\n",
       "      <td>AIR RESOURCES BOARD</td>\n",
       "      <td>10+ years</td>\n",
       "      <td>RENT</td>\n",
       "      <td>49200</td>\n",
       "      <td>Source Verified</td>\n",
       "      <td>Dec-11</td>\n",
       "      <td>Fully Paid</td>\n",
       "      <td>n</td>\n",
       "      <td>https://lendingclub.com/browse/loanDetail.acti...</td>\n",
       "      <td>Borrower added on 12/21/11 &gt; to pay for prop...</td>\n",
       "      <td>other</td>\n",
       "      <td>personel</td>\n",
       "      <td>917xx</td>\n",
       "      <td>CA</td>\n",
       "      <td>20</td>\n",
       "      <td>0</td>\n",
       "      <td>Feb-96</td>\n",
       "      <td>1</td>\n",
       "      <td>35</td>\n",
       "      <td>NaN</td>\n",
       "      <td>10</td>\n",
       "      <td>0</td>\n",
       "      <td>5598</td>\n",
       "      <td>21%</td>\n",
       "      <td>37</td>\n",
       "      <td>f</td>\n",
       "      <td>0</td>\n",
       "      <td>0</td>\n",
       "      <td>12231.89</td>\n",
       "      <td>12231.89</td>\n",
       "      <td>10000</td>\n",
       "      <td>2214.92</td>\n",
       "      <td>16.97</td>\n",
       "      <td>0</td>\n",
       "      <td>0</td>\n",
       "      <td>Jan-15</td>\n",
       "      <td>357.48</td>\n",
       "      <td>NaN</td>\n",
       "      <td>Apr-16</td>\n",
       "      <td>0</td>\n",
       "      <td>NaN</td>\n",
       "      <td>1</td>\n",
       "      <td>INDIVIDUAL</td>\n",
       "      <td>NaN</td>\n",
       "      <td>NaN</td>\n",
       "      <td>NaN</td>\n",
       "      <td>0</td>\n",
       "      <td>NaN</td>\n",
       "      <td>NaN</td>\n",
       "      <td>NaN</td>\n",
       "      <td>NaN</td>\n",
       "      <td>NaN</td>\n",
       "      <td>NaN</td>\n",
       "      <td>NaN</td>\n",
       "      <td>NaN</td>\n",
       "      <td>NaN</td>\n",
       "      <td>NaN</td>\n",
       "      <td>NaN</td>\n",
       "      <td>NaN</td>\n",
       "      <td>NaN</td>\n",
       "      <td>NaN</td>\n",
       "      <td>NaN</td>\n",
       "      <td>NaN</td>\n",
       "      <td>NaN</td>\n",
       "      <td>NaN</td>\n",
       "      <td>NaN</td>\n",
       "      <td>NaN</td>\n",
       "      <td>NaN</td>\n",
       "      <td>0</td>\n",
       "      <td>0</td>\n",
       "      <td>NaN</td>\n",
       "      <td>NaN</td>\n",
       "      <td>NaN</td>\n",
       "      <td>NaN</td>\n",
       "      <td>NaN</td>\n",
       "      <td>NaN</td>\n",
       "      <td>NaN</td>\n",
       "      <td>NaN</td>\n",
       "      <td>NaN</td>\n",
       "      <td>NaN</td>\n",
       "      <td>NaN</td>\n",
       "      <td>NaN</td>\n",
       "      <td>NaN</td>\n",
       "      <td>NaN</td>\n",
       "      <td>NaN</td>\n",
       "      <td>NaN</td>\n",
       "      <td>NaN</td>\n",
       "      <td>NaN</td>\n",
       "      <td>NaN</td>\n",
       "      <td>NaN</td>\n",
       "      <td>NaN</td>\n",
       "      <td>NaN</td>\n",
       "      <td>NaN</td>\n",
       "      <td>NaN</td>\n",
       "      <td>NaN</td>\n",
       "      <td>0</td>\n",
       "      <td>0</td>\n",
       "      <td>NaN</td>\n",
       "      <td>NaN</td>\n",
       "      <td>NaN</td>\n",
       "      <td>NaN</td>\n",
       "    </tr>\n",
       "    <tr>\n",
       "      <th>4</th>\n",
       "      <td>1075358</td>\n",
       "      <td>1311748</td>\n",
       "      <td>3000</td>\n",
       "      <td>3000</td>\n",
       "      <td>3000</td>\n",
       "      <td>60 months</td>\n",
       "      <td>12.69%</td>\n",
       "      <td>67.79</td>\n",
       "      <td>B</td>\n",
       "      <td>B5</td>\n",
       "      <td>University Medical Group</td>\n",
       "      <td>1 year</td>\n",
       "      <td>RENT</td>\n",
       "      <td>80000</td>\n",
       "      <td>Source Verified</td>\n",
       "      <td>Dec-11</td>\n",
       "      <td>Current</td>\n",
       "      <td>n</td>\n",
       "      <td>https://lendingclub.com/browse/loanDetail.acti...</td>\n",
       "      <td>Borrower added on 12/21/11 &gt; I plan on combi...</td>\n",
       "      <td>other</td>\n",
       "      <td>Personal</td>\n",
       "      <td>972xx</td>\n",
       "      <td>OR</td>\n",
       "      <td>17.94</td>\n",
       "      <td>0</td>\n",
       "      <td>Jan-96</td>\n",
       "      <td>0</td>\n",
       "      <td>38</td>\n",
       "      <td>NaN</td>\n",
       "      <td>15</td>\n",
       "      <td>0</td>\n",
       "      <td>27783</td>\n",
       "      <td>53.90%</td>\n",
       "      <td>38</td>\n",
       "      <td>f</td>\n",
       "      <td>524.06</td>\n",
       "      <td>524.06</td>\n",
       "      <td>3513.33</td>\n",
       "      <td>3513.33</td>\n",
       "      <td>2475.94</td>\n",
       "      <td>1037.39</td>\n",
       "      <td>0</td>\n",
       "      <td>0</td>\n",
       "      <td>0</td>\n",
       "      <td>May-16</td>\n",
       "      <td>67.79</td>\n",
       "      <td>Jun-16</td>\n",
       "      <td>May-16</td>\n",
       "      <td>0</td>\n",
       "      <td>NaN</td>\n",
       "      <td>1</td>\n",
       "      <td>INDIVIDUAL</td>\n",
       "      <td>NaN</td>\n",
       "      <td>NaN</td>\n",
       "      <td>NaN</td>\n",
       "      <td>0</td>\n",
       "      <td>NaN</td>\n",
       "      <td>NaN</td>\n",
       "      <td>NaN</td>\n",
       "      <td>NaN</td>\n",
       "      <td>NaN</td>\n",
       "      <td>NaN</td>\n",
       "      <td>NaN</td>\n",
       "      <td>NaN</td>\n",
       "      <td>NaN</td>\n",
       "      <td>NaN</td>\n",
       "      <td>NaN</td>\n",
       "      <td>NaN</td>\n",
       "      <td>NaN</td>\n",
       "      <td>NaN</td>\n",
       "      <td>NaN</td>\n",
       "      <td>NaN</td>\n",
       "      <td>NaN</td>\n",
       "      <td>NaN</td>\n",
       "      <td>NaN</td>\n",
       "      <td>NaN</td>\n",
       "      <td>NaN</td>\n",
       "      <td>0</td>\n",
       "      <td>0</td>\n",
       "      <td>NaN</td>\n",
       "      <td>NaN</td>\n",
       "      <td>NaN</td>\n",
       "      <td>NaN</td>\n",
       "      <td>NaN</td>\n",
       "      <td>NaN</td>\n",
       "      <td>NaN</td>\n",
       "      <td>NaN</td>\n",
       "      <td>NaN</td>\n",
       "      <td>NaN</td>\n",
       "      <td>NaN</td>\n",
       "      <td>NaN</td>\n",
       "      <td>NaN</td>\n",
       "      <td>NaN</td>\n",
       "      <td>NaN</td>\n",
       "      <td>NaN</td>\n",
       "      <td>NaN</td>\n",
       "      <td>NaN</td>\n",
       "      <td>NaN</td>\n",
       "      <td>NaN</td>\n",
       "      <td>NaN</td>\n",
       "      <td>NaN</td>\n",
       "      <td>NaN</td>\n",
       "      <td>NaN</td>\n",
       "      <td>NaN</td>\n",
       "      <td>0</td>\n",
       "      <td>0</td>\n",
       "      <td>NaN</td>\n",
       "      <td>NaN</td>\n",
       "      <td>NaN</td>\n",
       "      <td>NaN</td>\n",
       "    </tr>\n",
       "  </tbody>\n",
       "</table>\n",
       "</div>"
      ],
      "text/plain": [
       "        id member_id loan_amnt funded_amnt funded_amnt_inv        term  \\\n",
       "0  1077501   1296599      5000        5000            4975   36 months   \n",
       "1  1077430   1314167      2500        2500            2500   60 months   \n",
       "2  1077175   1313524      2400        2400            2400   36 months   \n",
       "3  1076863   1277178     10000       10000           10000   36 months   \n",
       "4  1075358   1311748      3000        3000            3000   60 months   \n",
       "\n",
       "  int_rate installment grade sub_grade                 emp_title emp_length  \\\n",
       "0   10.65%      162.87     B        B2                       NaN  10+ years   \n",
       "1   15.27%       59.83     C        C4                     Ryder   < 1 year   \n",
       "2   15.96%       84.33     C        C5                       NaN  10+ years   \n",
       "3   13.49%      339.31     C        C1       AIR RESOURCES BOARD  10+ years   \n",
       "4   12.69%       67.79     B        B5  University Medical Group     1 year   \n",
       "\n",
       "  home_ownership annual_inc verification_status issue_d  loan_status  \\\n",
       "0           RENT      24000            Verified  Dec-11   Fully Paid   \n",
       "1           RENT      30000     Source Verified  Dec-11  Charged Off   \n",
       "2           RENT      12252        Not Verified  Dec-11   Fully Paid   \n",
       "3           RENT      49200     Source Verified  Dec-11   Fully Paid   \n",
       "4           RENT      80000     Source Verified  Dec-11      Current   \n",
       "\n",
       "  pymnt_plan                                                url  \\\n",
       "0          n  https://lendingclub.com/browse/loanDetail.acti...   \n",
       "1          n  https://lendingclub.com/browse/loanDetail.acti...   \n",
       "2          n  https://lendingclub.com/browse/loanDetail.acti...   \n",
       "3          n  https://lendingclub.com/browse/loanDetail.acti...   \n",
       "4          n  https://lendingclub.com/browse/loanDetail.acti...   \n",
       "\n",
       "                                                desc         purpose  \\\n",
       "0    Borrower added on 12/22/11 > I need to upgra...     credit_card   \n",
       "1    Borrower added on 12/22/11 > I plan to use t...             car   \n",
       "2                                                NaN  small_business   \n",
       "3    Borrower added on 12/21/11 > to pay for prop...           other   \n",
       "4    Borrower added on 12/21/11 > I plan on combi...           other   \n",
       "\n",
       "                  title zip_code addr_state    dti delinq_2yrs  \\\n",
       "0              Computer    860xx         AZ  27.65           0   \n",
       "1                  bike    309xx         GA      1           0   \n",
       "2  real estate business    606xx         IL   8.72           0   \n",
       "3              personel    917xx         CA     20           0   \n",
       "4              Personal    972xx         OR  17.94           0   \n",
       "\n",
       "  earliest_cr_line inq_last_6mths mths_since_last_delinq  \\\n",
       "0           Jan-85              1                    NaN   \n",
       "1           Apr-99              5                    NaN   \n",
       "2           Nov-01              2                    NaN   \n",
       "3           Feb-96              1                     35   \n",
       "4           Jan-96              0                     38   \n",
       "\n",
       "  mths_since_last_record open_acc pub_rec revol_bal revol_util total_acc  \\\n",
       "0                    NaN        3       0     13648     83.70%         9   \n",
       "1                    NaN        3       0      1687      9.40%         4   \n",
       "2                    NaN        2       0      2956     98.50%        10   \n",
       "3                    NaN       10       0      5598        21%        37   \n",
       "4                    NaN       15       0     27783     53.90%        38   \n",
       "\n",
       "  initial_list_status out_prncp out_prncp_inv  total_pymnt total_pymnt_inv  \\\n",
       "0                   f         0             0  5863.155187         5833.84   \n",
       "1                   f         0             0      1008.71         1008.71   \n",
       "2                   f         0             0  3005.666844         3005.67   \n",
       "3                   f         0             0     12231.89        12231.89   \n",
       "4                   f    524.06        524.06      3513.33         3513.33   \n",
       "\n",
       "  total_rec_prncp total_rec_int total_rec_late_fee recoveries  \\\n",
       "0            5000        863.16                  0          0   \n",
       "1          456.46        435.17                  0     117.08   \n",
       "2            2400        605.67                  0          0   \n",
       "3           10000       2214.92              16.97          0   \n",
       "4         2475.94       1037.39                  0          0   \n",
       "\n",
       "  collection_recovery_fee last_pymnt_d last_pymnt_amnt next_pymnt_d  \\\n",
       "0                       0       Jan-15          171.62          NaN   \n",
       "1                    1.11       Apr-13          119.66          NaN   \n",
       "2                       0       Jun-14          649.91          NaN   \n",
       "3                       0       Jan-15          357.48          NaN   \n",
       "4                       0       May-16           67.79       Jun-16   \n",
       "\n",
       "  last_credit_pull_d collections_12_mths_ex_med mths_since_last_major_derog  \\\n",
       "0             May-16                          0                         NaN   \n",
       "1             Sep-13                          0                         NaN   \n",
       "2             May-16                          0                         NaN   \n",
       "3             Apr-16                          0                         NaN   \n",
       "4             May-16                          0                         NaN   \n",
       "\n",
       "  policy_code application_type annual_inc_joint dti_joint  \\\n",
       "0           1       INDIVIDUAL              NaN       NaN   \n",
       "1           1       INDIVIDUAL              NaN       NaN   \n",
       "2           1       INDIVIDUAL              NaN       NaN   \n",
       "3           1       INDIVIDUAL              NaN       NaN   \n",
       "4           1       INDIVIDUAL              NaN       NaN   \n",
       "\n",
       "  verification_status_joint acc_now_delinq tot_coll_amt tot_cur_bal  \\\n",
       "0                       NaN              0          NaN         NaN   \n",
       "1                       NaN              0          NaN         NaN   \n",
       "2                       NaN              0          NaN         NaN   \n",
       "3                       NaN              0          NaN         NaN   \n",
       "4                       NaN              0          NaN         NaN   \n",
       "\n",
       "  open_acc_6m open_il_6m open_il_12m open_il_24m mths_since_rcnt_il  \\\n",
       "0         NaN        NaN         NaN         NaN                NaN   \n",
       "1         NaN        NaN         NaN         NaN                NaN   \n",
       "2         NaN        NaN         NaN         NaN                NaN   \n",
       "3         NaN        NaN         NaN         NaN                NaN   \n",
       "4         NaN        NaN         NaN         NaN                NaN   \n",
       "\n",
       "  total_bal_il il_util open_rv_12m open_rv_24m max_bal_bc all_util  \\\n",
       "0          NaN     NaN         NaN         NaN        NaN      NaN   \n",
       "1          NaN     NaN         NaN         NaN        NaN      NaN   \n",
       "2          NaN     NaN         NaN         NaN        NaN      NaN   \n",
       "3          NaN     NaN         NaN         NaN        NaN      NaN   \n",
       "4          NaN     NaN         NaN         NaN        NaN      NaN   \n",
       "\n",
       "  total_rev_hi_lim inq_fi total_cu_tl inq_last_12m acc_open_past_24mths  \\\n",
       "0              NaN    NaN         NaN          NaN                  NaN   \n",
       "1              NaN    NaN         NaN          NaN                  NaN   \n",
       "2              NaN    NaN         NaN          NaN                  NaN   \n",
       "3              NaN    NaN         NaN          NaN                  NaN   \n",
       "4              NaN    NaN         NaN          NaN                  NaN   \n",
       "\n",
       "  avg_cur_bal bc_open_to_buy bc_util chargeoff_within_12_mths delinq_amnt  \\\n",
       "0         NaN            NaN     NaN                        0           0   \n",
       "1         NaN            NaN     NaN                        0           0   \n",
       "2         NaN            NaN     NaN                        0           0   \n",
       "3         NaN            NaN     NaN                        0           0   \n",
       "4         NaN            NaN     NaN                        0           0   \n",
       "\n",
       "  mo_sin_old_il_acct mo_sin_old_rev_tl_op mo_sin_rcnt_rev_tl_op  \\\n",
       "0                NaN                  NaN                   NaN   \n",
       "1                NaN                  NaN                   NaN   \n",
       "2                NaN                  NaN                   NaN   \n",
       "3                NaN                  NaN                   NaN   \n",
       "4                NaN                  NaN                   NaN   \n",
       "\n",
       "  mo_sin_rcnt_tl mort_acc mths_since_recent_bc mths_since_recent_bc_dlq  \\\n",
       "0            NaN      NaN                  NaN                      NaN   \n",
       "1            NaN      NaN                  NaN                      NaN   \n",
       "2            NaN      NaN                  NaN                      NaN   \n",
       "3            NaN      NaN                  NaN                      NaN   \n",
       "4            NaN      NaN                  NaN                      NaN   \n",
       "\n",
       "  mths_since_recent_inq mths_since_recent_revol_delinq num_accts_ever_120_pd  \\\n",
       "0                   NaN                            NaN                   NaN   \n",
       "1                   NaN                            NaN                   NaN   \n",
       "2                   NaN                            NaN                   NaN   \n",
       "3                   NaN                            NaN                   NaN   \n",
       "4                   NaN                            NaN                   NaN   \n",
       "\n",
       "  num_actv_bc_tl num_actv_rev_tl num_bc_sats num_bc_tl num_il_tl  \\\n",
       "0            NaN             NaN         NaN       NaN       NaN   \n",
       "1            NaN             NaN         NaN       NaN       NaN   \n",
       "2            NaN             NaN         NaN       NaN       NaN   \n",
       "3            NaN             NaN         NaN       NaN       NaN   \n",
       "4            NaN             NaN         NaN       NaN       NaN   \n",
       "\n",
       "  num_op_rev_tl num_rev_accts num_rev_tl_bal_gt_0 num_sats num_tl_120dpd_2m  \\\n",
       "0           NaN           NaN                 NaN      NaN              NaN   \n",
       "1           NaN           NaN                 NaN      NaN              NaN   \n",
       "2           NaN           NaN                 NaN      NaN              NaN   \n",
       "3           NaN           NaN                 NaN      NaN              NaN   \n",
       "4           NaN           NaN                 NaN      NaN              NaN   \n",
       "\n",
       "  num_tl_30dpd num_tl_90g_dpd_24m num_tl_op_past_12m pct_tl_nvr_dlq  \\\n",
       "0          NaN                NaN                NaN            NaN   \n",
       "1          NaN                NaN                NaN            NaN   \n",
       "2          NaN                NaN                NaN            NaN   \n",
       "3          NaN                NaN                NaN            NaN   \n",
       "4          NaN                NaN                NaN            NaN   \n",
       "\n",
       "  percent_bc_gt_75 pub_rec_bankruptcies tax_liens tot_hi_cred_lim  \\\n",
       "0              NaN                    0         0             NaN   \n",
       "1              NaN                    0         0             NaN   \n",
       "2              NaN                    0         0             NaN   \n",
       "3              NaN                    0         0             NaN   \n",
       "4              NaN                    0         0             NaN   \n",
       "\n",
       "  total_bal_ex_mort total_bc_limit total_il_high_credit_limit  \n",
       "0               NaN            NaN                        NaN  \n",
       "1               NaN            NaN                        NaN  \n",
       "2               NaN            NaN                        NaN  \n",
       "3               NaN            NaN                        NaN  \n",
       "4               NaN            NaN                        NaN  "
      ]
     },
     "execution_count": 169,
     "metadata": {},
     "output_type": "execute_result"
    }
   ],
   "source": [
    "# let's look at the data\n",
    "loan_df.head(5)"
   ]
  },
  {
   "cell_type": "markdown",
   "id": "1a3ef9bb",
   "metadata": {},
   "source": [
    "# DATA CLEANUP, FIX AND DERIVED COLUMNS\n"
   ]
  },
  {
   "cell_type": "code",
   "execution_count": 170,
   "id": "ee3c492d",
   "metadata": {},
   "outputs": [
    {
     "data": {
      "text/plain": [
       "id                                    0\n",
       "member_id                             0\n",
       "loan_amnt                             0\n",
       "funded_amnt                           0\n",
       "funded_amnt_inv                       0\n",
       "term                                  0\n",
       "int_rate                              0\n",
       "installment                           0\n",
       "grade                                 0\n",
       "sub_grade                             0\n",
       "emp_title                          2459\n",
       "emp_length                         1075\n",
       "home_ownership                        0\n",
       "annual_inc                            0\n",
       "verification_status                   0\n",
       "issue_d                               0\n",
       "loan_status                           0\n",
       "pymnt_plan                            0\n",
       "url                                   0\n",
       "desc                              12940\n",
       "purpose                               0\n",
       "title                                11\n",
       "zip_code                              0\n",
       "addr_state                            0\n",
       "dti                                   0\n",
       "delinq_2yrs                           0\n",
       "earliest_cr_line                      0\n",
       "inq_last_6mths                        0\n",
       "mths_since_last_delinq            25682\n",
       "mths_since_last_record            36931\n",
       "open_acc                              0\n",
       "pub_rec                               0\n",
       "revol_bal                             0\n",
       "revol_util                           50\n",
       "total_acc                             0\n",
       "initial_list_status                   0\n",
       "out_prncp                             0\n",
       "out_prncp_inv                         0\n",
       "total_pymnt                           0\n",
       "total_pymnt_inv                       0\n",
       "total_rec_prncp                       0\n",
       "total_rec_int                         0\n",
       "total_rec_late_fee                    0\n",
       "recoveries                            0\n",
       "collection_recovery_fee               0\n",
       "last_pymnt_d                         71\n",
       "last_pymnt_amnt                       0\n",
       "next_pymnt_d                      38577\n",
       "last_credit_pull_d                    2\n",
       "collections_12_mths_ex_med           56\n",
       "mths_since_last_major_derog       39717\n",
       "policy_code                           0\n",
       "application_type                      0\n",
       "annual_inc_joint                  39717\n",
       "dti_joint                         39717\n",
       "verification_status_joint         39717\n",
       "acc_now_delinq                        0\n",
       "tot_coll_amt                      39717\n",
       "tot_cur_bal                       39717\n",
       "open_acc_6m                       39717\n",
       "open_il_6m                        39717\n",
       "open_il_12m                       39717\n",
       "open_il_24m                       39717\n",
       "mths_since_rcnt_il                39717\n",
       "total_bal_il                      39717\n",
       "il_util                           39717\n",
       "open_rv_12m                       39717\n",
       "open_rv_24m                       39717\n",
       "max_bal_bc                        39717\n",
       "all_util                          39717\n",
       "total_rev_hi_lim                  39717\n",
       "inq_fi                            39717\n",
       "total_cu_tl                       39717\n",
       "inq_last_12m                      39717\n",
       "acc_open_past_24mths              39717\n",
       "avg_cur_bal                       39717\n",
       "bc_open_to_buy                    39717\n",
       "bc_util                           39717\n",
       "chargeoff_within_12_mths             56\n",
       "delinq_amnt                           0\n",
       "mo_sin_old_il_acct                39717\n",
       "mo_sin_old_rev_tl_op              39717\n",
       "mo_sin_rcnt_rev_tl_op             39717\n",
       "mo_sin_rcnt_tl                    39717\n",
       "mort_acc                          39717\n",
       "mths_since_recent_bc              39717\n",
       "mths_since_recent_bc_dlq          39717\n",
       "mths_since_recent_inq             39717\n",
       "mths_since_recent_revol_delinq    39717\n",
       "num_accts_ever_120_pd             39717\n",
       "num_actv_bc_tl                    39717\n",
       "num_actv_rev_tl                   39717\n",
       "num_bc_sats                       39717\n",
       "num_bc_tl                         39717\n",
       "num_il_tl                         39717\n",
       "num_op_rev_tl                     39717\n",
       "num_rev_accts                     39717\n",
       "num_rev_tl_bal_gt_0               39717\n",
       "num_sats                          39717\n",
       "num_tl_120dpd_2m                  39717\n",
       "num_tl_30dpd                      39717\n",
       "num_tl_90g_dpd_24m                39717\n",
       "num_tl_op_past_12m                39717\n",
       "pct_tl_nvr_dlq                    39717\n",
       "percent_bc_gt_75                  39717\n",
       "pub_rec_bankruptcies                697\n",
       "tax_liens                            39\n",
       "tot_hi_cred_lim                   39717\n",
       "total_bal_ex_mort                 39717\n",
       "total_bc_limit                    39717\n",
       "total_il_high_credit_limit        39717\n",
       "dtype: int64"
      ]
     },
     "execution_count": 170,
     "metadata": {},
     "output_type": "execute_result"
    }
   ],
   "source": [
    "# We have 111 rows and 39717 columns. \n",
    "# I observe a lot of null columns and columns having same data.\n",
    "# We need to first see how many columns have only null data.\n",
    "loan_df.isnull().sum()"
   ]
  },
  {
   "cell_type": "code",
   "execution_count": 171,
   "id": "2250ada3",
   "metadata": {},
   "outputs": [
    {
     "data": {
      "text/plain": [
       "(39717, 57)"
      ]
     },
     "execution_count": 171,
     "metadata": {},
     "output_type": "execute_result"
    }
   ],
   "source": [
    "# There are too many columns with null data.\n",
    "# let's remove the columns that have all the null values as they don't serve any value .\n",
    "loan_df = loan_df.dropna(how='all', axis=1)\n",
    "loan_df.shape"
   ]
  },
  {
   "cell_type": "code",
   "execution_count": 172,
   "id": "666647b9",
   "metadata": {},
   "outputs": [
    {
     "data": {
      "text/plain": [
       "0"
      ]
     },
     "execution_count": 172,
     "metadata": {},
     "output_type": "execute_result"
    }
   ],
   "source": [
    "# let's check if their are rows that have all the null values\n",
    "loan_df.isnull().all(axis=1).sum()"
   ]
  },
  {
   "cell_type": "code",
   "execution_count": 173,
   "id": "5c6812bd",
   "metadata": {},
   "outputs": [
    {
     "data": {
      "text/plain": [
       "(39717, 53)"
      ]
     },
     "execution_count": 173,
     "metadata": {},
     "output_type": "execute_result"
    }
   ],
   "source": [
    "# We can also remove columns that have almost all values as null.\n",
    "# We already have the null column count list above.\n",
    "# From the list above we can see that mths_since_last_delinq, mths_since_last_record, next_pymnt_d have\n",
    "# too many null values, so they can be removed.\n",
    "columns_to_drop =  [\"mths_since_last_delinq\",\"mths_since_last_record\",\"next_pymnt_d\"]\n",
    "\n",
    "# employee title and length has some null values but they may be useful during bivariate analysis so let's keep it.\n",
    "\n",
    "# description is not useful for our use case.\n",
    "columns_to_drop.append(\"desc\")\n",
    "\n",
    "# Thus drop:  \"desc\",\"mths_since_last_delinq\",\"mths_since_last_record\",\"next_pymnt_d\"\n",
    "\n",
    "loan_df.drop(labels = columns_to_drop, axis =1, inplace=True)\n",
    "loan_df.shape"
   ]
  },
  {
   "cell_type": "code",
   "execution_count": 174,
   "id": "b5051e66",
   "metadata": {},
   "outputs": [
    {
     "data": {
      "text/plain": [
       "id                            39717\n",
       "member_id                     39717\n",
       "loan_amnt                       885\n",
       "funded_amnt                    1041\n",
       "funded_amnt_inv                8205\n",
       "term                              2\n",
       "int_rate                        371\n",
       "installment                   15383\n",
       "grade                             7\n",
       "sub_grade                        35\n",
       "emp_title                     28820\n",
       "emp_length                       11\n",
       "home_ownership                    5\n",
       "annual_inc                     5318\n",
       "verification_status               3\n",
       "issue_d                          55\n",
       "loan_status                       3\n",
       "pymnt_plan                        1\n",
       "url                           39717\n",
       "purpose                          14\n",
       "title                         19615\n",
       "zip_code                        823\n",
       "addr_state                       50\n",
       "dti                            2868\n",
       "delinq_2yrs                      11\n",
       "earliest_cr_line                526\n",
       "inq_last_6mths                    9\n",
       "open_acc                         40\n",
       "pub_rec                           5\n",
       "revol_bal                     21711\n",
       "revol_util                     1089\n",
       "total_acc                        82\n",
       "initial_list_status               1\n",
       "out_prncp                      1137\n",
       "out_prncp_inv                  1138\n",
       "total_pymnt                   37850\n",
       "total_pymnt_inv               37518\n",
       "total_rec_prncp                7976\n",
       "total_rec_int                 35148\n",
       "total_rec_late_fee             1356\n",
       "recoveries                     4040\n",
       "collection_recovery_fee        2616\n",
       "last_pymnt_d                    101\n",
       "last_pymnt_amnt               34930\n",
       "last_credit_pull_d              106\n",
       "collections_12_mths_ex_med        1\n",
       "policy_code                       1\n",
       "application_type                  1\n",
       "acc_now_delinq                    1\n",
       "chargeoff_within_12_mths          1\n",
       "delinq_amnt                       1\n",
       "pub_rec_bankruptcies              3\n",
       "tax_liens                         1\n",
       "dtype: int64"
      ]
     },
     "execution_count": 174,
     "metadata": {},
     "output_type": "execute_result"
    }
   ],
   "source": [
    "# Let's look at the unique value count per column.\n",
    "# Columns with very few or very large unique value at times are not useful.\n",
    "loan_df.nunique()"
   ]
  },
  {
   "cell_type": "code",
   "execution_count": 139,
   "id": "1993d7de",
   "metadata": {},
   "outputs": [
    {
     "data": {
      "text/html": [
       "<div>\n",
       "<style scoped>\n",
       "    .dataframe tbody tr th:only-of-type {\n",
       "        vertical-align: middle;\n",
       "    }\n",
       "\n",
       "    .dataframe tbody tr th {\n",
       "        vertical-align: top;\n",
       "    }\n",
       "\n",
       "    .dataframe thead th {\n",
       "        text-align: right;\n",
       "    }\n",
       "</style>\n",
       "<table border=\"1\" class=\"dataframe\">\n",
       "  <thead>\n",
       "    <tr style=\"text-align: right;\">\n",
       "      <th></th>\n",
       "      <th>id</th>\n",
       "      <th>member_id</th>\n",
       "      <th>loan_amnt</th>\n",
       "      <th>funded_amnt</th>\n",
       "      <th>funded_amnt_inv</th>\n",
       "      <th>term</th>\n",
       "      <th>int_rate</th>\n",
       "      <th>installment</th>\n",
       "      <th>grade</th>\n",
       "      <th>sub_grade</th>\n",
       "      <th>emp_title</th>\n",
       "      <th>emp_length</th>\n",
       "      <th>home_ownership</th>\n",
       "      <th>annual_inc</th>\n",
       "      <th>verification_status</th>\n",
       "      <th>issue_d</th>\n",
       "      <th>loan_status</th>\n",
       "      <th>pymnt_plan</th>\n",
       "      <th>url</th>\n",
       "      <th>purpose</th>\n",
       "      <th>title</th>\n",
       "      <th>zip_code</th>\n",
       "      <th>addr_state</th>\n",
       "      <th>dti</th>\n",
       "      <th>delinq_2yrs</th>\n",
       "      <th>earliest_cr_line</th>\n",
       "      <th>inq_last_6mths</th>\n",
       "      <th>open_acc</th>\n",
       "      <th>pub_rec</th>\n",
       "      <th>revol_bal</th>\n",
       "      <th>revol_util</th>\n",
       "      <th>total_acc</th>\n",
       "      <th>initial_list_status</th>\n",
       "      <th>out_prncp</th>\n",
       "      <th>out_prncp_inv</th>\n",
       "      <th>total_pymnt</th>\n",
       "      <th>total_pymnt_inv</th>\n",
       "      <th>total_rec_prncp</th>\n",
       "      <th>total_rec_int</th>\n",
       "      <th>total_rec_late_fee</th>\n",
       "      <th>recoveries</th>\n",
       "      <th>collection_recovery_fee</th>\n",
       "      <th>last_pymnt_d</th>\n",
       "      <th>last_pymnt_amnt</th>\n",
       "      <th>last_credit_pull_d</th>\n",
       "      <th>collections_12_mths_ex_med</th>\n",
       "      <th>policy_code</th>\n",
       "      <th>application_type</th>\n",
       "      <th>acc_now_delinq</th>\n",
       "      <th>chargeoff_within_12_mths</th>\n",
       "      <th>delinq_amnt</th>\n",
       "      <th>pub_rec_bankruptcies</th>\n",
       "      <th>tax_liens</th>\n",
       "    </tr>\n",
       "  </thead>\n",
       "  <tbody>\n",
       "    <tr>\n",
       "      <th>0</th>\n",
       "      <td>1077501</td>\n",
       "      <td>1296599</td>\n",
       "      <td>5000</td>\n",
       "      <td>5000</td>\n",
       "      <td>4975</td>\n",
       "      <td>36 months</td>\n",
       "      <td>10.65%</td>\n",
       "      <td>162.87</td>\n",
       "      <td>B</td>\n",
       "      <td>B2</td>\n",
       "      <td>NaN</td>\n",
       "      <td>10+ years</td>\n",
       "      <td>RENT</td>\n",
       "      <td>24000</td>\n",
       "      <td>Verified</td>\n",
       "      <td>Dec-11</td>\n",
       "      <td>Fully Paid</td>\n",
       "      <td>n</td>\n",
       "      <td>https://lendingclub.com/browse/loanDetail.acti...</td>\n",
       "      <td>credit_card</td>\n",
       "      <td>Computer</td>\n",
       "      <td>860xx</td>\n",
       "      <td>AZ</td>\n",
       "      <td>27.65</td>\n",
       "      <td>0</td>\n",
       "      <td>Jan-85</td>\n",
       "      <td>1</td>\n",
       "      <td>3</td>\n",
       "      <td>0</td>\n",
       "      <td>13648</td>\n",
       "      <td>83.70%</td>\n",
       "      <td>9</td>\n",
       "      <td>f</td>\n",
       "      <td>0</td>\n",
       "      <td>0</td>\n",
       "      <td>5863.155187</td>\n",
       "      <td>5833.84</td>\n",
       "      <td>5000</td>\n",
       "      <td>863.16</td>\n",
       "      <td>0</td>\n",
       "      <td>0</td>\n",
       "      <td>0</td>\n",
       "      <td>Jan-15</td>\n",
       "      <td>171.62</td>\n",
       "      <td>May-16</td>\n",
       "      <td>0</td>\n",
       "      <td>1</td>\n",
       "      <td>INDIVIDUAL</td>\n",
       "      <td>0</td>\n",
       "      <td>0</td>\n",
       "      <td>0</td>\n",
       "      <td>0</td>\n",
       "      <td>0</td>\n",
       "    </tr>\n",
       "    <tr>\n",
       "      <th>1</th>\n",
       "      <td>1077430</td>\n",
       "      <td>1314167</td>\n",
       "      <td>2500</td>\n",
       "      <td>2500</td>\n",
       "      <td>2500</td>\n",
       "      <td>60 months</td>\n",
       "      <td>15.27%</td>\n",
       "      <td>59.83</td>\n",
       "      <td>C</td>\n",
       "      <td>C4</td>\n",
       "      <td>Ryder</td>\n",
       "      <td>&lt; 1 year</td>\n",
       "      <td>RENT</td>\n",
       "      <td>30000</td>\n",
       "      <td>Source Verified</td>\n",
       "      <td>Dec-11</td>\n",
       "      <td>Charged Off</td>\n",
       "      <td>n</td>\n",
       "      <td>https://lendingclub.com/browse/loanDetail.acti...</td>\n",
       "      <td>car</td>\n",
       "      <td>bike</td>\n",
       "      <td>309xx</td>\n",
       "      <td>GA</td>\n",
       "      <td>1</td>\n",
       "      <td>0</td>\n",
       "      <td>Apr-99</td>\n",
       "      <td>5</td>\n",
       "      <td>3</td>\n",
       "      <td>0</td>\n",
       "      <td>1687</td>\n",
       "      <td>9.40%</td>\n",
       "      <td>4</td>\n",
       "      <td>f</td>\n",
       "      <td>0</td>\n",
       "      <td>0</td>\n",
       "      <td>1008.71</td>\n",
       "      <td>1008.71</td>\n",
       "      <td>456.46</td>\n",
       "      <td>435.17</td>\n",
       "      <td>0</td>\n",
       "      <td>117.08</td>\n",
       "      <td>1.11</td>\n",
       "      <td>Apr-13</td>\n",
       "      <td>119.66</td>\n",
       "      <td>Sep-13</td>\n",
       "      <td>0</td>\n",
       "      <td>1</td>\n",
       "      <td>INDIVIDUAL</td>\n",
       "      <td>0</td>\n",
       "      <td>0</td>\n",
       "      <td>0</td>\n",
       "      <td>0</td>\n",
       "      <td>0</td>\n",
       "    </tr>\n",
       "    <tr>\n",
       "      <th>2</th>\n",
       "      <td>1077175</td>\n",
       "      <td>1313524</td>\n",
       "      <td>2400</td>\n",
       "      <td>2400</td>\n",
       "      <td>2400</td>\n",
       "      <td>36 months</td>\n",
       "      <td>15.96%</td>\n",
       "      <td>84.33</td>\n",
       "      <td>C</td>\n",
       "      <td>C5</td>\n",
       "      <td>NaN</td>\n",
       "      <td>10+ years</td>\n",
       "      <td>RENT</td>\n",
       "      <td>12252</td>\n",
       "      <td>Not Verified</td>\n",
       "      <td>Dec-11</td>\n",
       "      <td>Fully Paid</td>\n",
       "      <td>n</td>\n",
       "      <td>https://lendingclub.com/browse/loanDetail.acti...</td>\n",
       "      <td>small_business</td>\n",
       "      <td>real estate business</td>\n",
       "      <td>606xx</td>\n",
       "      <td>IL</td>\n",
       "      <td>8.72</td>\n",
       "      <td>0</td>\n",
       "      <td>Nov-01</td>\n",
       "      <td>2</td>\n",
       "      <td>2</td>\n",
       "      <td>0</td>\n",
       "      <td>2956</td>\n",
       "      <td>98.50%</td>\n",
       "      <td>10</td>\n",
       "      <td>f</td>\n",
       "      <td>0</td>\n",
       "      <td>0</td>\n",
       "      <td>3005.666844</td>\n",
       "      <td>3005.67</td>\n",
       "      <td>2400</td>\n",
       "      <td>605.67</td>\n",
       "      <td>0</td>\n",
       "      <td>0</td>\n",
       "      <td>0</td>\n",
       "      <td>Jun-14</td>\n",
       "      <td>649.91</td>\n",
       "      <td>May-16</td>\n",
       "      <td>0</td>\n",
       "      <td>1</td>\n",
       "      <td>INDIVIDUAL</td>\n",
       "      <td>0</td>\n",
       "      <td>0</td>\n",
       "      <td>0</td>\n",
       "      <td>0</td>\n",
       "      <td>0</td>\n",
       "    </tr>\n",
       "    <tr>\n",
       "      <th>3</th>\n",
       "      <td>1076863</td>\n",
       "      <td>1277178</td>\n",
       "      <td>10000</td>\n",
       "      <td>10000</td>\n",
       "      <td>10000</td>\n",
       "      <td>36 months</td>\n",
       "      <td>13.49%</td>\n",
       "      <td>339.31</td>\n",
       "      <td>C</td>\n",
       "      <td>C1</td>\n",
       "      <td>AIR RESOURCES BOARD</td>\n",
       "      <td>10+ years</td>\n",
       "      <td>RENT</td>\n",
       "      <td>49200</td>\n",
       "      <td>Source Verified</td>\n",
       "      <td>Dec-11</td>\n",
       "      <td>Fully Paid</td>\n",
       "      <td>n</td>\n",
       "      <td>https://lendingclub.com/browse/loanDetail.acti...</td>\n",
       "      <td>other</td>\n",
       "      <td>personel</td>\n",
       "      <td>917xx</td>\n",
       "      <td>CA</td>\n",
       "      <td>20</td>\n",
       "      <td>0</td>\n",
       "      <td>Feb-96</td>\n",
       "      <td>1</td>\n",
       "      <td>10</td>\n",
       "      <td>0</td>\n",
       "      <td>5598</td>\n",
       "      <td>21%</td>\n",
       "      <td>37</td>\n",
       "      <td>f</td>\n",
       "      <td>0</td>\n",
       "      <td>0</td>\n",
       "      <td>12231.89</td>\n",
       "      <td>12231.89</td>\n",
       "      <td>10000</td>\n",
       "      <td>2214.92</td>\n",
       "      <td>16.97</td>\n",
       "      <td>0</td>\n",
       "      <td>0</td>\n",
       "      <td>Jan-15</td>\n",
       "      <td>357.48</td>\n",
       "      <td>Apr-16</td>\n",
       "      <td>0</td>\n",
       "      <td>1</td>\n",
       "      <td>INDIVIDUAL</td>\n",
       "      <td>0</td>\n",
       "      <td>0</td>\n",
       "      <td>0</td>\n",
       "      <td>0</td>\n",
       "      <td>0</td>\n",
       "    </tr>\n",
       "    <tr>\n",
       "      <th>4</th>\n",
       "      <td>1075358</td>\n",
       "      <td>1311748</td>\n",
       "      <td>3000</td>\n",
       "      <td>3000</td>\n",
       "      <td>3000</td>\n",
       "      <td>60 months</td>\n",
       "      <td>12.69%</td>\n",
       "      <td>67.79</td>\n",
       "      <td>B</td>\n",
       "      <td>B5</td>\n",
       "      <td>University Medical Group</td>\n",
       "      <td>1 year</td>\n",
       "      <td>RENT</td>\n",
       "      <td>80000</td>\n",
       "      <td>Source Verified</td>\n",
       "      <td>Dec-11</td>\n",
       "      <td>Current</td>\n",
       "      <td>n</td>\n",
       "      <td>https://lendingclub.com/browse/loanDetail.acti...</td>\n",
       "      <td>other</td>\n",
       "      <td>Personal</td>\n",
       "      <td>972xx</td>\n",
       "      <td>OR</td>\n",
       "      <td>17.94</td>\n",
       "      <td>0</td>\n",
       "      <td>Jan-96</td>\n",
       "      <td>0</td>\n",
       "      <td>15</td>\n",
       "      <td>0</td>\n",
       "      <td>27783</td>\n",
       "      <td>53.90%</td>\n",
       "      <td>38</td>\n",
       "      <td>f</td>\n",
       "      <td>524.06</td>\n",
       "      <td>524.06</td>\n",
       "      <td>3513.33</td>\n",
       "      <td>3513.33</td>\n",
       "      <td>2475.94</td>\n",
       "      <td>1037.39</td>\n",
       "      <td>0</td>\n",
       "      <td>0</td>\n",
       "      <td>0</td>\n",
       "      <td>May-16</td>\n",
       "      <td>67.79</td>\n",
       "      <td>May-16</td>\n",
       "      <td>0</td>\n",
       "      <td>1</td>\n",
       "      <td>INDIVIDUAL</td>\n",
       "      <td>0</td>\n",
       "      <td>0</td>\n",
       "      <td>0</td>\n",
       "      <td>0</td>\n",
       "      <td>0</td>\n",
       "    </tr>\n",
       "  </tbody>\n",
       "</table>\n",
       "</div>"
      ],
      "text/plain": [
       "        id member_id loan_amnt funded_amnt funded_amnt_inv        term  \\\n",
       "0  1077501   1296599      5000        5000            4975   36 months   \n",
       "1  1077430   1314167      2500        2500            2500   60 months   \n",
       "2  1077175   1313524      2400        2400            2400   36 months   \n",
       "3  1076863   1277178     10000       10000           10000   36 months   \n",
       "4  1075358   1311748      3000        3000            3000   60 months   \n",
       "\n",
       "  int_rate installment grade sub_grade                 emp_title emp_length  \\\n",
       "0   10.65%      162.87     B        B2                       NaN  10+ years   \n",
       "1   15.27%       59.83     C        C4                     Ryder   < 1 year   \n",
       "2   15.96%       84.33     C        C5                       NaN  10+ years   \n",
       "3   13.49%      339.31     C        C1       AIR RESOURCES BOARD  10+ years   \n",
       "4   12.69%       67.79     B        B5  University Medical Group     1 year   \n",
       "\n",
       "  home_ownership annual_inc verification_status issue_d  loan_status  \\\n",
       "0           RENT      24000            Verified  Dec-11   Fully Paid   \n",
       "1           RENT      30000     Source Verified  Dec-11  Charged Off   \n",
       "2           RENT      12252        Not Verified  Dec-11   Fully Paid   \n",
       "3           RENT      49200     Source Verified  Dec-11   Fully Paid   \n",
       "4           RENT      80000     Source Verified  Dec-11      Current   \n",
       "\n",
       "  pymnt_plan                                                url  \\\n",
       "0          n  https://lendingclub.com/browse/loanDetail.acti...   \n",
       "1          n  https://lendingclub.com/browse/loanDetail.acti...   \n",
       "2          n  https://lendingclub.com/browse/loanDetail.acti...   \n",
       "3          n  https://lendingclub.com/browse/loanDetail.acti...   \n",
       "4          n  https://lendingclub.com/browse/loanDetail.acti...   \n",
       "\n",
       "          purpose                 title zip_code addr_state    dti  \\\n",
       "0     credit_card              Computer    860xx         AZ  27.65   \n",
       "1             car                  bike    309xx         GA      1   \n",
       "2  small_business  real estate business    606xx         IL   8.72   \n",
       "3           other              personel    917xx         CA     20   \n",
       "4           other              Personal    972xx         OR  17.94   \n",
       "\n",
       "  delinq_2yrs earliest_cr_line inq_last_6mths open_acc pub_rec revol_bal  \\\n",
       "0           0           Jan-85              1        3       0     13648   \n",
       "1           0           Apr-99              5        3       0      1687   \n",
       "2           0           Nov-01              2        2       0      2956   \n",
       "3           0           Feb-96              1       10       0      5598   \n",
       "4           0           Jan-96              0       15       0     27783   \n",
       "\n",
       "  revol_util total_acc initial_list_status out_prncp out_prncp_inv  \\\n",
       "0     83.70%         9                   f         0             0   \n",
       "1      9.40%         4                   f         0             0   \n",
       "2     98.50%        10                   f         0             0   \n",
       "3        21%        37                   f         0             0   \n",
       "4     53.90%        38                   f    524.06        524.06   \n",
       "\n",
       "   total_pymnt total_pymnt_inv total_rec_prncp total_rec_int  \\\n",
       "0  5863.155187         5833.84            5000        863.16   \n",
       "1      1008.71         1008.71          456.46        435.17   \n",
       "2  3005.666844         3005.67            2400        605.67   \n",
       "3     12231.89        12231.89           10000       2214.92   \n",
       "4      3513.33         3513.33         2475.94       1037.39   \n",
       "\n",
       "  total_rec_late_fee recoveries collection_recovery_fee last_pymnt_d  \\\n",
       "0                  0          0                       0       Jan-15   \n",
       "1                  0     117.08                    1.11       Apr-13   \n",
       "2                  0          0                       0       Jun-14   \n",
       "3              16.97          0                       0       Jan-15   \n",
       "4                  0          0                       0       May-16   \n",
       "\n",
       "  last_pymnt_amnt last_credit_pull_d collections_12_mths_ex_med policy_code  \\\n",
       "0          171.62             May-16                          0           1   \n",
       "1          119.66             Sep-13                          0           1   \n",
       "2          649.91             May-16                          0           1   \n",
       "3          357.48             Apr-16                          0           1   \n",
       "4           67.79             May-16                          0           1   \n",
       "\n",
       "  application_type acc_now_delinq chargeoff_within_12_mths delinq_amnt  \\\n",
       "0       INDIVIDUAL              0                        0           0   \n",
       "1       INDIVIDUAL              0                        0           0   \n",
       "2       INDIVIDUAL              0                        0           0   \n",
       "3       INDIVIDUAL              0                        0           0   \n",
       "4       INDIVIDUAL              0                        0           0   \n",
       "\n",
       "  pub_rec_bankruptcies tax_liens  \n",
       "0                    0         0  \n",
       "1                    0         0  \n",
       "2                    0         0  \n",
       "3                    0         0  \n",
       "4                    0         0  "
      ]
     },
     "execution_count": 139,
     "metadata": {},
     "output_type": "execute_result"
    }
   ],
   "source": [
    "# let's also look at the data to see if columns with very less unique values are useful.\n",
    "loan_df.head(5)"
   ]
  },
  {
   "cell_type": "code",
   "execution_count": 175,
   "id": "8daa8541",
   "metadata": {},
   "outputs": [
    {
     "data": {
      "text/plain": [
       "(39717, 41)"
      ]
     },
     "execution_count": 175,
     "metadata": {},
     "output_type": "execute_result"
    }
   ],
   "source": [
    "# columsn with very less or very more unique values are not useful to us. Let's remove those columns.\n",
    "columns_with_1_unique_value = [\"tax_liens\", \"delinq_amnt\", \"chargeoff_within_12_mths\",\n",
    "                               \"acc_now_delinq\", \"application_type\", \"policy_code\", \"collections_12_mths_ex_med\",\n",
    "                               \"initial_list_status\", \"pymnt_plan\"] \n",
    "\n",
    "# Also, member_id, url have high unique values and they serve no value in any of the anaysis.\n",
    "# employee title could have been useful with less uniqueness but in the current data set it is of no value.\n",
    "columns_with_multiple_unique_values = [\"member_id\", \"url\", \"emp_title\"]\n",
    "\n",
    "loan_df.drop(labels = columns_with_1_unique_value, axis =1, inplace=True)\n",
    "loan_df.drop(labels = columns_with_multiple_unique_values, axis =1, inplace=True)\n",
    "loan_df.shape"
   ]
  },
  {
   "cell_type": "code",
   "execution_count": 176,
   "id": "457d6bc4",
   "metadata": {},
   "outputs": [
    {
     "data": {
      "text/plain": [
       "array(['Fully Paid', 'Charged Off'], dtype=object)"
      ]
     },
     "execution_count": 176,
     "metadata": {},
     "output_type": "execute_result"
    }
   ],
   "source": [
    "# Also, we see loan_status has 3 unique values but we are not interested in current loans as they are ongoing.\n",
    "# lets remove those rows; this will help us reduce the row count as well.\n",
    "loan_df = loan_df[loan_df.loan_status != \"Current\"]\n",
    "loan_df.loan_status.unique()"
   ]
  },
  {
   "cell_type": "markdown",
   "id": "0c154369",
   "metadata": {},
   "source": [
    "### Extract numeric data from non-numeric columns and replace NANs with 0."
   ]
  },
  {
   "cell_type": "code",
   "execution_count": 177,
   "id": "1e9d2a2b",
   "metadata": {},
   "outputs": [
    {
     "name": "stdout",
     "output_type": "stream",
     "text": [
      "employe_length_unique_before ['10' '1' '3' '8' '9' '4' '5' '6' '2' '7' nan]\n",
      "employe_length_unique_after ['10' '1' '3' '8' '9' '4' '5' '6' '2' '7' '0']\n"
     ]
    }
   ],
   "source": [
    "# We have imported the current data set as an object. \n",
    "# Let's parse the numerical attributes to numeric data types.\n",
    "# Also few numeric column has unwarranted text appened to it. Let's remove that as well.\n",
    "# Employee length has years appended it. We can remove that:\n",
    "# We can use regular expressions to simply extract out numerical contents. The digit flag is used for extracting it.\n",
    "loan_df['emp_length']=loan_df.emp_length.str.extract('(\\d+)')\n",
    "print('employe_length_unique_before', loan_df.emp_length.unique())\n",
    "\n",
    "# From above analysis we know it has nan value as well. let's replace nan with 0's\n",
    "loan_df.emp_length.fillna('0',inplace=True)\n",
    "print('employe_length_unique_after', loan_df.emp_length.unique())\n",
    "\n",
    "# Term has years months to it. Let's remove that \n",
    "loan_df['term']=loan_df.term.str.extract('(\\d+)')\n",
    "\n",
    "# remove percentage from int_rate and revol_util\n",
    "loan_df['int_rate'] = loan_df['int_rate'].str.rstrip('%')\n",
    "loan_df['revol_util'] = loan_df['revol_util'].str.rstrip('%')"
   ]
  },
  {
   "cell_type": "markdown",
   "id": "f606327f",
   "metadata": {},
   "source": [
    "### Convert Object Data Types to Numerical"
   ]
  },
  {
   "cell_type": "code",
   "execution_count": 178,
   "id": "240601ba",
   "metadata": {},
   "outputs": [],
   "source": [
    "# lets convert all to numeric data frame\n",
    "cols1 = ['loan_amnt','funded_amnt','int_rate','funded_amnt_inv','installment','annual_inc','dti','emp_length','total_pymnt']\n",
    "loan_df[cols1] = loan_df[cols1].apply(pd.to_numeric)\n"
   ]
  },
  {
   "cell_type": "markdown",
   "id": "a8b4dbd3",
   "metadata": {},
   "source": [
    "### Parse Date Data and Derived New Columns for Month and Year"
   ]
  },
  {
   "cell_type": "code",
   "execution_count": 179,
   "id": "fcbc6782",
   "metadata": {},
   "outputs": [],
   "source": [
    "# let's parse dates\n",
    "loan_df.issue_d = pd.to_datetime(loan_df.issue_d, format='%b-%y')\n",
    "loan_df.issue_d\n",
    "\n",
    "# we can extract the year and month and create new columns, These columns can further help us analyze in the process\n",
    "loan_df['year']=loan_df['issue_d'].dt.year\n",
    "loan_df['month']=loan_df['issue_d'].dt.month"
   ]
  },
  {
   "cell_type": "code",
   "execution_count": 180,
   "id": "628ec83b",
   "metadata": {},
   "outputs": [
    {
     "name": "stdout",
     "output_type": "stream",
     "text": [
      "<class 'pandas.core.frame.DataFrame'>\n",
      "Int64Index: 38577 entries, 0 to 39716\n",
      "Data columns (total 43 columns):\n",
      " #   Column                   Non-Null Count  Dtype         \n",
      "---  ------                   --------------  -----         \n",
      " 0   id                       38577 non-null  object        \n",
      " 1   loan_amnt                38577 non-null  int64         \n",
      " 2   funded_amnt              38577 non-null  int64         \n",
      " 3   funded_amnt_inv          38577 non-null  float64       \n",
      " 4   term                     38577 non-null  object        \n",
      " 5   int_rate                 38577 non-null  float64       \n",
      " 6   installment              38577 non-null  float64       \n",
      " 7   grade                    38577 non-null  object        \n",
      " 8   sub_grade                38577 non-null  object        \n",
      " 9   emp_length               38577 non-null  int64         \n",
      " 10  home_ownership           38577 non-null  object        \n",
      " 11  annual_inc               38577 non-null  float64       \n",
      " 12  verification_status      38577 non-null  object        \n",
      " 13  issue_d                  38577 non-null  datetime64[ns]\n",
      " 14  loan_status              38577 non-null  object        \n",
      " 15  purpose                  38577 non-null  object        \n",
      " 16  title                    38566 non-null  object        \n",
      " 17  zip_code                 38577 non-null  object        \n",
      " 18  addr_state               38577 non-null  object        \n",
      " 19  dti                      38577 non-null  float64       \n",
      " 20  delinq_2yrs              38577 non-null  object        \n",
      " 21  earliest_cr_line         38577 non-null  object        \n",
      " 22  inq_last_6mths           38577 non-null  object        \n",
      " 23  open_acc                 38577 non-null  object        \n",
      " 24  pub_rec                  38577 non-null  object        \n",
      " 25  revol_bal                38577 non-null  object        \n",
      " 26  revol_util               38527 non-null  object        \n",
      " 27  total_acc                38577 non-null  object        \n",
      " 28  out_prncp                38577 non-null  object        \n",
      " 29  out_prncp_inv            38577 non-null  object        \n",
      " 30  total_pymnt              38577 non-null  float64       \n",
      " 31  total_pymnt_inv          38577 non-null  object        \n",
      " 32  total_rec_prncp          38577 non-null  object        \n",
      " 33  total_rec_int            38577 non-null  object        \n",
      " 34  total_rec_late_fee       38577 non-null  object        \n",
      " 35  recoveries               38577 non-null  object        \n",
      " 36  collection_recovery_fee  38577 non-null  object        \n",
      " 37  last_pymnt_d             38506 non-null  object        \n",
      " 38  last_pymnt_amnt          38577 non-null  object        \n",
      " 39  last_credit_pull_d       38575 non-null  object        \n",
      " 40  pub_rec_bankruptcies     37880 non-null  object        \n",
      " 41  year                     38577 non-null  int64         \n",
      " 42  month                    38577 non-null  int64         \n",
      "dtypes: datetime64[ns](1), float64(6), int64(5), object(31)\n",
      "memory usage: 13.0+ MB\n"
     ]
    }
   ],
   "source": [
    "# let's finally look at our data set types and columns\n",
    "loan_df.info()"
   ]
  },
  {
   "cell_type": "markdown",
   "id": "80f6afab",
   "metadata": {},
   "source": [
    "<h1>Outlier treatment</h1>\n",
    "\n",
    "- Let's check at major numerical attributes which may have outliers to see which actually does."
   ]
  },
  {
   "cell_type": "code",
   "execution_count": 181,
   "id": "21714c83",
   "metadata": {},
   "outputs": [
    {
     "name": "stderr",
     "output_type": "stream",
     "text": [
      "/Users/shwetabh.shekhar/Library/Python/3.8/lib/python/site-packages/seaborn/_decorators.py:36: FutureWarning: Pass the following variable as a keyword arg: x. From version 0.12, the only valid positional argument will be `data`, and passing other arguments without an explicit keyword will result in an error or misinterpretation.\n",
      "  warnings.warn(\n"
     ]
    },
    {
     "data": {
      "text/plain": [
       "<AxesSubplot:xlabel='annual_inc'>"
      ]
     },
     "execution_count": 181,
     "metadata": {},
     "output_type": "execute_result"
    },
    {
     "data": {
      "image/png": "[encoded data removed]",
      "text/plain": [
       "<Figure size 432x288 with 1 Axes>"
      ]
     },
     "metadata": {
      "needs_background": "light"
     },
     "output_type": "display_data"
    }
   ],
   "source": [
    "# Let's look at major numerical attributes and see if there are any outliers\n",
    "annual_income = loan_df['annual_inc'].quantile(0.95)\n",
    "loan_df = loan_df[loan_df.annual_inc <= annual_income]\n",
    "sns.boxplot(loan_df.annual_inc)\n",
    "\n",
    "# INFERENCE: No Outliers"
   ]
  },
  {
   "cell_type": "code",
   "execution_count": 182,
   "id": "b0424168",
   "metadata": {},
   "outputs": [
    {
     "data": {
      "text/plain": [
       "<AxesSubplot:ylabel='dti'>"
      ]
     },
     "execution_count": 182,
     "metadata": {},
     "output_type": "execute_result"
    },
    {
     "data": {
      "image/png": "[encoded data removed]",
      "text/plain": [
       "<Figure size 432x288 with 1 Axes>"
      ]
     },
     "metadata": {
      "needs_background": "light"
     },
     "output_type": "display_data"
    }
   ],
   "source": [
    "# Let's check the box plot for debt to income ratio\n",
    "sns.boxplot(y=loan_df.dti)\n",
    "\n",
    "# INFERENCE: No Outliers"
   ]
  },
  {
   "cell_type": "code",
   "execution_count": 184,
   "id": "4b2a6226",
   "metadata": {},
   "outputs": [
    {
     "data": {
      "text/plain": [
       "<AxesSubplot:ylabel='loan_amnt'>"
      ]
     },
     "execution_count": 184,
     "metadata": {},
     "output_type": "execute_result"
    },
    {
     "data": {
      "image/png": "[encoded data removed]",
      "text/plain": [
       "<Figure size 432x288 with 1 Axes>"
      ]
     },
     "metadata": {
      "needs_background": "light"
     },
     "output_type": "display_data"
    }
   ],
   "source": [
    "# Let's check the box plot for loan amount\n",
    "loan_df['loan_amnt'].describe()\n",
    "sns.boxplot(y=loan_df[\"loan_amnt\"])\n",
    "# INFERENCE: No Outliers"
   ]
  },
  {
   "cell_type": "code",
   "execution_count": 185,
   "id": "161deced",
   "metadata": {},
   "outputs": [
    {
     "name": "stdout",
     "output_type": "stream",
     "text": [
      "quantile_info 0.50    56,000.00\n",
      "0.75    77,970.50\n",
      "0.90   100,000.00\n",
      "0.95   117,000.00\n",
      "0.97   124,000.00\n",
      "0.98   129,000.00\n",
      "0.99   135,000.00\n",
      "Name: annual_inc, dtype: float64\n"
     ]
    },
    {
     "name": "stderr",
     "output_type": "stream",
     "text": [
      "/Users/shwetabh.shekhar/Library/Python/3.8/lib/python/site-packages/seaborn/_decorators.py:36: FutureWarning: Pass the following variable as a keyword arg: x. From version 0.12, the only valid positional argument will be `data`, and passing other arguments without an explicit keyword will result in an error or misinterpretation.\n",
      "  warnings.warn(\n"
     ]
    },
    {
     "data": {
      "image/png": "[encoded data removed]",
      "text/plain": [
       "<Figure size 432x288 with 1 Axes>"
      ]
     },
     "metadata": {
      "needs_background": "light"
     },
     "output_type": "display_data"
    }
   ],
   "source": [
    "# Let's check the box plot for annual income\n",
    "sns.boxplot(loan_df['annual_inc'])\n",
    "# The graph shows the presence of outliers\n",
    "# Let's see the quantile info and take an appropriate action.\n",
    "# The values after 95 percentile seems to be disconected from the general distribution and also there is huge increase in the value for small quantile variation.\n",
    "# So, considering threshold for removing outliers as 0.95\n",
    "\n",
    "quantile_info = loan_df.annual_inc.quantile([0.5, 0.75,0.90, 0.95, 0.97,0.98, 0.99])\n",
    "print('quantile_info', quantile_info)\n",
    "\n",
    "# INFERENCE: PRESENCE OF OUTLIERS"
   ]
  },
  {
   "cell_type": "markdown",
   "id": "cc0eb6d4",
   "metadata": {},
   "source": [
    "# Univariate Analysis"
   ]
  },
  {
   "cell_type": "code",
   "execution_count": 58,
   "id": "00f02316",
   "metadata": {},
   "outputs": [
    {
     "name": "stdout",
     "output_type": "stream",
     "text": [
      "count   36,654.00\n",
      "mean    10,682.25\n",
      "std      7,048.41\n",
      "min        500.00\n",
      "25%      5,000.00\n",
      "50%      9,250.00\n",
      "75%     15,000.00\n",
      "max     35,000.00\n",
      "Name: loan_amnt, dtype: float64\n"
     ]
    },
    {
     "data": {
      "image/png": "[encoded data removed]",
      "text/plain": [
       "<Figure size 432x288 with 1 Axes>"
      ]
     },
     "metadata": {
      "needs_background": "light"
     },
     "output_type": "display_data"
    }
   ],
   "source": [
    "# let's understand what is the average loan amount being taken for fully paid and charged off loans\n",
    "sns.boxplot(y=loan_df.loan_amnt)\n",
    "print(loan_df.loan_amnt.describe())"
   ]
  },
  {
   "cell_type": "markdown",
   "id": "09a3cf03",
   "metadata": {},
   "source": [
    "#### Inference: The loan amount varies from 0 to 15,000 having mean of 10,000."
   ]
  },
  {
   "cell_type": "code",
   "execution_count": 186,
   "id": "e87066f3",
   "metadata": {},
   "outputs": [
    {
     "data": {
      "image/png": "[encoded data removed]",
      "text/plain": [
       "<Figure size 432x288 with 1 Axes>"
      ]
     },
     "metadata": {
      "needs_background": "light"
     },
     "output_type": "display_data"
    },
    {
     "name": "stdout",
     "output_type": "stream",
     "text": [
      "Fully Paid     31236\n",
      "Charged Off     5418\n",
      "Name: loan_status, dtype: int64\n"
     ]
    }
   ],
   "source": [
    "# let's see what percentage of loan is defaulted/charged off\n",
    "sns.countplot(x = loan_df[\"loan_status\"])\n",
    "plt.show()\n",
    "print(loan_df.loan_status.value_counts())"
   ]
  },
  {
   "cell_type": "markdown",
   "id": "a67b312e",
   "metadata": {},
   "source": [
    "#### Inference: Most of the loans are Fully Paid. The charged off loan percenatge is (5418/31236+5418)*100 = 14.78%"
   ]
  },
  {
   "cell_type": "code",
   "execution_count": 187,
   "id": "b320885e",
   "metadata": {},
   "outputs": [
    {
     "name": "stdout",
     "output_type": "stream",
     "text": [
      "count   36,654.00\n",
      "mean        11.89\n",
      "std          3.67\n",
      "min          5.42\n",
      "25%          8.94\n",
      "50%         11.71\n",
      "75%         14.27\n",
      "max         24.40\n",
      "Name: int_rate, dtype: float64\n"
     ]
    },
    {
     "data": {
      "image/png": "[encoded data removed]",
      "text/plain": [
       "<Figure size 432x288 with 1 Axes>"
      ]
     },
     "metadata": {
      "needs_background": "light"
     },
     "output_type": "display_data"
    }
   ],
   "source": [
    "# Interest Rates\n",
    "sns.boxplot(y=loan_df.int_rate)\n",
    "print(loan_df['int_rate'].describe())"
   ]
  },
  {
   "cell_type": "markdown",
   "id": "0ef971e4",
   "metadata": {},
   "source": [
    "#### Inference: Average Interest rate is around 12%"
   ]
  },
  {
   "cell_type": "code",
   "execution_count": 188,
   "id": "5edd3198",
   "metadata": {},
   "outputs": [
    {
     "data": {
      "image/png": "[encoded data removed]",
      "text/plain": [
       "<Figure size 432x288 with 1 Axes>"
      ]
     },
     "metadata": {
      "needs_background": "light"
     },
     "output_type": "display_data"
    }
   ],
   "source": [
    "# let's see the grade of loans\n",
    "sns.countplot(x='grade', data=loan_df)\n",
    "plt.show()"
   ]
  },
  {
   "cell_type": "markdown",
   "id": "e744bd1c",
   "metadata": {},
   "source": [
    "#### Inference: Most loans are low graded loans."
   ]
  },
  {
   "cell_type": "code",
   "execution_count": 189,
   "id": "4e3ffdf0",
   "metadata": {},
   "outputs": [
    {
     "name": "stdout",
     "output_type": "stream",
     "text": [
      "count    36,654.00\n",
      "mean     60,855.75\n",
      "std      27,750.28\n",
      "min       4,000.00\n",
      "25%      40,000.00\n",
      "50%      56,000.00\n",
      "75%      77,970.50\n",
      "max     140,004.00\n",
      "Name: annual_inc, dtype: float64\n"
     ]
    },
    {
     "data": {
      "image/png": "[encoded data removed]",
      "text/plain": [
       "<Figure size 432x288 with 1 Axes>"
      ]
     },
     "metadata": {
      "needs_background": "light"
     },
     "output_type": "display_data"
    }
   ],
   "source": [
    "sns.boxplot(y=loan_df.annual_inc)\n",
    "print(loan_df['annual_inc'].describe())"
   ]
  },
  {
   "cell_type": "markdown",
   "id": "b7207d14",
   "metadata": {},
   "source": [
    "#### Inference: The annual income of most of the loan applicants is in the ranege of 40,000 to 80,000. Very few people earn above 100,000."
   ]
  },
  {
   "cell_type": "code",
   "execution_count": 190,
   "id": "14f39701",
   "metadata": {},
   "outputs": [
    {
     "data": {
      "image/png": "[encoded data removed]",
      "text/plain": [
       "<Figure size 432x288 with 1 Axes>"
      ]
     },
     "metadata": {
      "needs_background": "light"
     },
     "output_type": "display_data"
    }
   ],
   "source": [
    "sns.countplot(x='emp_length', data=loan_df)\n",
    "plt.xlabel('Employee Working Experience')\n",
    "plt.show()"
   ]
  },
  {
   "cell_type": "markdown",
   "id": "728e6bd6",
   "metadata": {},
   "source": [
    "#### Inference: People with 10+ years of work experince apply for most of the loans. And people with 0-1 years experince are the second most category of people applying for loans."
   ]
  },
  {
   "cell_type": "code",
   "execution_count": 196,
   "id": "e6c4081a",
   "metadata": {},
   "outputs": [
    {
     "data": {
      "image/png": "[encoded data removed]",
      "text/plain": [
       "<Figure size 432x288 with 1 Axes>"
      ]
     },
     "metadata": {
      "needs_background": "light"
     },
     "output_type": "display_data"
    }
   ],
   "source": [
    "sns.histplot(x=loan_df['funded_amnt'])\n",
    "plt.xlabel('funded amount')\n",
    "plt.show()"
   ]
  },
  {
   "cell_type": "markdown",
   "id": "a8b9c741",
   "metadata": {},
   "source": [
    "#### Inference: Too many loans are being taken for less amount."
   ]
  },
  {
   "cell_type": "markdown",
   "id": "2a5024a5",
   "metadata": {},
   "source": [
    "## Segmented Univariate Analysis - Unordered Categorical Variables"
   ]
  },
  {
   "cell_type": "code",
   "execution_count": 73,
   "id": "b7bfbcb9",
   "metadata": {},
   "outputs": [
    {
     "data": {
      "image/png": "[encoded data removed]",
      "text/plain": [
       "<Figure size 432x288 with 1 Axes>"
      ]
     },
     "metadata": {
      "needs_background": "light"
     },
     "output_type": "display_data"
    }
   ],
   "source": [
    "# purpose of loans\n",
    "sns.countplot(y=\"purpose\", hue='loan_status', data=loan_df)\n",
    "plt.show()"
   ]
  },
  {
   "cell_type": "markdown",
   "id": "259d892a",
   "metadata": {},
   "source": [
    "#### Inference: Debt Consolidation is the most popular category for loans.\n"
   ]
  },
  {
   "cell_type": "code",
   "execution_count": 199,
   "id": "9314114d",
   "metadata": {},
   "outputs": [
    {
     "data": {
      "image/png": "[encoded data removed]",
      "text/plain": [
       "<Figure size 432x288 with 1 Axes>"
      ]
     },
     "metadata": {
      "needs_background": "light"
     },
     "output_type": "display_data"
    }
   ],
   "source": [
    "# Home ownership\n",
    "sns.countplot(x='home_ownership', hue='loan_status', data=loan_df)\n",
    "plt.show()"
   ]
  },
  {
   "cell_type": "markdown",
   "id": "d38aa1e0",
   "metadata": {},
   "source": [
    "#### Inference: Most people taking loans and defaulting are living in rented homes."
   ]
  },
  {
   "cell_type": "markdown",
   "id": "a9fe0cfa",
   "metadata": {},
   "source": [
    "# Segmented Univariate Analysis: Ordered Categorical Variables"
   ]
  },
  {
   "cell_type": "code",
   "execution_count": 198,
   "id": "ec021dff",
   "metadata": {},
   "outputs": [
    {
     "data": {
      "image/png": "[encoded data removed]",
      "text/plain": [
       "<Figure size 432x288 with 1 Axes>"
      ]
     },
     "metadata": {
      "needs_background": "light"
     },
     "output_type": "display_data"
    }
   ],
   "source": [
    "sns.countplot(x=\"term\", data=loan_df, hue='loan_status')\n",
    "plt.show()"
   ]
  },
  {
   "cell_type": "markdown",
   "id": "28f981e9",
   "metadata": {},
   "source": [
    "#### Inference: Those who take 60 months to repay the loan have a higher chance of defaulting the loan."
   ]
  },
  {
   "cell_type": "markdown",
   "id": "6436899f",
   "metadata": {},
   "source": [
    "# Bivaraiate Analysis"
   ]
  },
  {
   "cell_type": "markdown",
   "id": "37ed29c1",
   "metadata": {},
   "source": [
    "- Here the goal is to understand how various parameters are responsible for defaulting the loan.\n",
    "- Let's analyze how Demograhics are responsible for defaulting loan, like state, annual income, employee's years of service and so on.\n",
    "- We can then look at how interest rate, loan amount and other factors affect the loan defaulting."
   ]
  },
  {
   "cell_type": "code",
   "execution_count": 83,
   "id": "afe47ae3",
   "metadata": {},
   "outputs": [
    {
     "data": {
      "image/png": "[encoded data removed]",
      "text/plain": [
       "<Figure size 720x720 with 1 Axes>"
      ]
     },
     "metadata": {
      "needs_background": "light"
     },
     "output_type": "display_data"
    }
   ],
   "source": [
    "# how state is responsible for loan default\n",
    "plt.figure(figsize=(10,10))\n",
    "filtered_data = loan_df[loan_df['loan_status']=='Charged Off'].groupby('addr_state')['loan_status'].count().reset_index()\n",
    "sns.barplot(y='addr_state', x='loan_status', data=filtered_data)\n",
    "plt.xlabel('loan defaulters')\n",
    "plt.ylabel('State')\n",
    "plt.show()"
   ]
  },
  {
   "cell_type": "markdown",
   "id": "73648121",
   "metadata": {},
   "source": [
    "#### Inference: If a person is applying for a loan from California, he has a high chance of defaulting the loan."
   ]
  },
  {
   "cell_type": "markdown",
   "id": "aa6dc3de",
   "metadata": {},
   "source": [
    "### Creating Bins For Analysis\n",
    " - Since annual income data is huge, it is better to analyze it in ranges."
   ]
  },
  {
   "cell_type": "code",
   "execution_count": 200,
   "id": "faaa2351",
   "metadata": {},
   "outputs": [
    {
     "data": {
      "image/png": "[encoded data removed]",
      "text/plain": [
       "<Figure size 432x288 with 1 Axes>"
      ]
     },
     "metadata": {
      "needs_background": "light"
     },
     "output_type": "display_data"
    }
   ],
   "source": [
    "# let's also see how annual income affects.\n",
    "# since annual income has a huge range, let's create bins and see which bin range is repsonsible towards defaulting\n",
    "loan_df['annual_inc_bins'] = pd.cut(loan_df['annual_inc'], [0, 15000, 30000, 50000, 80000, 1000000], labels=['0-15000', '15000-30000', '30000-50000', '50000-80000', '80000+'])\n",
    "\n",
    "# we need to look at data in terms of percentages because a higher or lower number of charge off has to be tested in percentages\n",
    "annual_income = loan_df.groupby(['annual_inc_bins', 'loan_status']).loan_status.count().unstack().reset_index()\n",
    "annual_income['total_count'] = annual_income['Charged Off'] + annual_income['Fully Paid'] \n",
    "annual_income['default_ratio'] = annual_income['Charged Off'] / annual_income['total_count']\n",
    "\n",
    "sns.barplot(x='annual_inc_bins', y='default_ratio', data=annual_income)\n",
    "plt.show()\n"
   ]
  },
  {
   "cell_type": "markdown",
   "id": "1c6346fd",
   "metadata": {},
   "source": [
    "### Inference: People taking loans in the income range of 10,000-15,000 has a high chances of defaulting the loan."
   ]
  },
  {
   "cell_type": "code",
   "execution_count": 205,
   "id": "6a30f909",
   "metadata": {},
   "outputs": [
    {
     "data": {
      "image/png": "[encoded data removed]",
      "text/plain": [
       "<Figure size 432x504 with 1 Axes>"
      ]
     },
     "metadata": {
      "needs_background": "light"
     },
     "output_type": "display_data"
    }
   ],
   "source": [
    "# Let's see how employment length affects the defaulting \n",
    "employment_ln_df = loan_df.groupby(['emp_length', 'loan_status']).loan_status.count().unstack().reset_index()\n",
    "\n",
    "employment_ln_df['total_count'] = employment_ln_df['Charged Off'] + employment_ln_df['Fully Paid'] \n",
    "employment_ln_df['default_ratio'] = employment_ln_df['Charged Off'] / employment_ln_df['total_count']\n",
    "\n",
    "plt.figure(figsize=(6, 7))\n",
    "sns.barplot(x='emp_length', y='default_ratio', data=employment_ln_df)\n",
    "plt.xlabel('years of service')\n",
    "plt.ylabel('chances of defaulting')\n",
    "plt.show()"
   ]
  },
  {
   "cell_type": "markdown",
   "id": "c7d6878b",
   "metadata": {},
   "source": [
    "#### Inference: Those with 0-1 years of experience has higher chances of defaulting loan."
   ]
  },
  {
   "cell_type": "code",
   "execution_count": 211,
   "id": "0ee9f452",
   "metadata": {},
   "outputs": [
    {
     "data": {
      "image/png": "[encoded data removed]",
      "text/plain": [
       "<Figure size 576x576 with 1 Axes>"
      ]
     },
     "metadata": {
      "needs_background": "light"
     },
     "output_type": "display_data"
    }
   ],
   "source": [
    "# Let's understand how purpose affectc.\n",
    "purpose_loan_df = loan_df.groupby(['purpose', 'loan_status']).loan_status.count().unstack().reset_index()\n",
    "purpose_loan_df['total_count'] = purpose_loan_df['Charged Off'] + purpose_loan_df['Fully Paid'] \n",
    "purpose_loan_df['default_ratio'] = purpose_loan_df['Charged Off'] / purpose_loan_df['total_count']\n",
    "plt.figure(figsize=(8, 8))\n",
    "sns.barplot(x='default_ratio', y='purpose', data=purpose_loan_df)\n",
    "plt.ylabel('purpose')\n",
    "plt.xlabel('chances of defaulting')\n",
    "plt.show()"
   ]
  },
  {
   "cell_type": "markdown",
   "id": "34f708cd",
   "metadata": {},
   "source": [
    "#### Inference: Person availing loan for Small Buisness has a high chances of defaulting it."
   ]
  },
  {
   "cell_type": "code",
   "execution_count": 209,
   "id": "b8caef68",
   "metadata": {},
   "outputs": [
    {
     "data": {
      "image/png": "[encoded data removed]",
      "text/plain": [
       "<Figure size 432x288 with 1 Axes>"
      ]
     },
     "metadata": {
      "needs_background": "light"
     },
     "output_type": "display_data"
    }
   ],
   "source": [
    "# Let's see how interest rates fare\n",
    "\n",
    "# let's bin the data to figure out which bin most impacts the default process as people avail loan\n",
    "# at different interests \n",
    "loan_df['int_rate_bins'] = pd.cut(loan_df['int_rate'], [0, 7.5, 10, 12.5, 15, 20], labels=['0-7.5', '7.5-10', '10-12.5', '12.5-15', '15+'])\n",
    "\n",
    "interest_loan_df = loan_df.groupby(['int_rate_bins', 'loan_status']).loan_status.count().unstack().reset_index()\n",
    "interest_loan_df['total_count'] = interest_loan_df['Charged Off'] + interest_loan_df['Fully Paid'] \n",
    "interest_loan_df['default_ratio'] = interest_loan_df['Charged Off'] / interest_loan_df['total_count']\n",
    "\n",
    "sns.barplot(x='int_rate_bins', y='default_ratio', data=interest_loan_df)\n",
    "\n",
    "plt.show()"
   ]
  },
  {
   "cell_type": "markdown",
   "id": "f2cb3d51",
   "metadata": {},
   "source": [
    "#### Inference: High interest rate loans have a high chance of being charged off, especially when they are 15+"
   ]
  },
  {
   "cell_type": "code",
   "execution_count": 210,
   "id": "ace680ba",
   "metadata": {},
   "outputs": [
    {
     "data": {
      "image/png": "[encoded data removed]",
      "text/plain": [
       "<Figure size 432x288 with 1 Axes>"
      ]
     },
     "metadata": {
      "needs_background": "light"
     },
     "output_type": "display_data"
    }
   ],
   "source": [
    "# how loan grade affect the defaulting process\n",
    "\n",
    "grade_loan_df = loan_df.groupby(['grade', 'loan_status']).loan_status.count().unstack().reset_index()\n",
    "grade_loan_df['total_count'] = grade_loan_df['Charged Off'] + grade_loan_df['Fully Paid'] \n",
    "grade_loan_df['default_ratio'] = grade_loan_df['Charged Off'] / grade_loan_df['total_count']\n",
    "\n",
    "sns.barplot(x='grade', y='default_ratio', data=grade_loan_df)\n",
    "\n",
    "plt.show()"
   ]
  },
  {
   "cell_type": "markdown",
   "id": "adabf081",
   "metadata": {},
   "source": [
    "#### Inference:  Chances of charged off is increasing with grade moving from \"A\" towards \"G\""
   ]
  },
  {
   "cell_type": "markdown",
   "id": "7e94c27a",
   "metadata": {},
   "source": [
    "#### pub_rec_bankruptcies: Number of public record bankruptcies\n",
    "- It signifies the person availing loan has defaulted how many times."
   ]
  },
  {
   "cell_type": "code",
   "execution_count": 151,
   "id": "eea30eae",
   "metadata": {},
   "outputs": [
    {
     "data": {
      "image/png": "[encoded data removed]",
      "text/plain": [
       "<Figure size 432x288 with 1 Axes>"
      ]
     },
     "metadata": {
      "needs_background": "light"
     },
     "output_type": "display_data"
    }
   ],
   "source": [
    "# public bankruptcy\n",
    "\n",
    "public_bankruptcy_loan_df = loan_df.groupby(['pub_rec_bankruptcies', 'loan_status']).loan_status.count().unstack().reset_index()\n",
    "public_bankruptcy_loan_df['total_count'] = public_bankruptcy_loan_df['Charged Off'] + public_bankruptcy_loan_df['Fully Paid'] \n",
    "public_bankruptcy_loan_df['default_ratio'] = public_bankruptcy_loan_df['Charged Off'] / public_bankruptcy_loan_df['total_count']\n",
    "\n",
    "sns.barplot(x='pub_rec_bankruptcies', y='default_ratio', data=public_bankruptcy_loan_df)\n",
    "\n",
    "plt.show()"
   ]
  },
  {
   "cell_type": "markdown",
   "id": "bac8b798",
   "metadata": {},
   "source": [
    "### Inference: People who have defaulted before have a higer chance of defaulting again."
   ]
  },
  {
   "cell_type": "code",
   "execution_count": 158,
   "id": "202a2486",
   "metadata": {},
   "outputs": [
    {
     "data": {
      "image/png": "[encoded data removed]",
      "text/plain": [
       "<Figure size 720x720 with 2 Axes>"
      ]
     },
     "metadata": {
      "needs_background": "light"
     },
     "output_type": "display_data"
    }
   ],
   "source": [
    "# Correlation Matrix\n",
    "plt.figure(figsize=(10,10))\n",
    "sns.heatmap(data=loan_df.corr(),  cmap=\"YlGnBu\", annot=True)\n",
    "plt.show()\n",
    "\n",
    "# Correlation Matrix does not help us to understandin the driving factors behind loan default although \n",
    "# they reveal other information such as loan amount and funded amount have a high correlation and so on."
   ]
  },
  {
   "cell_type": "markdown",
   "id": "1ada926f",
   "metadata": {},
   "source": [
    "# Summary \n",
    "\n",
    "### Understanding who are taking loans and what kind of loans are being taken.\n",
    "\n",
    "- Most people who are taking loans and defaulting are living in rented homes.\n",
    "- Around 14.78% of the loan are currently defaulted. \n",
    "- Debt Consolidation is the most popular category for loans.\n",
    "- Most of the loans are being taken for less amount around 5000/-.\n",
    "- The loan amount varies from 0 to 15,000 having mean of 10,000.\n",
    "- People with 10+ years of work experince apply for most of the loans. And people with 0-1 years experince are the second most category of people applying for loans.\n",
    "- Average interest rate is around 12%.\n",
    "\n",
    "### Driving Factors for loan default.\n",
    "\n",
    "- High grade loans are likely to be defaulted.\n",
    "- Loan being granted to the people of California is likely to be defaulted.\n",
    "- High interest rate loan has a high chance of being defaulted.\n",
    "- People who have defaulted before have a higer chance of defaulting again.\n",
    "- Those with 0-1 years of experience has higher chances of defaulting loan.\n",
    "- Person availing loan for Small Buisness has a high chances of defaulting it.\n",
    "- People taking loans in the income range of 10,000-15,000 has a high chances of defaulting the loan.\n",
    "- Those who take 60 months to repay the loan have a higher chance of defaulting the loan."
   ]
  },
  {
   "cell_type": "code",
   "execution_count": null,
   "id": "8061d7db",
   "metadata": {},
   "outputs": [],
   "source": []
  }
 ],
 "metadata": {
  "kernelspec": {
   "display_name": "Python 3 (ipykernel)",
   "language": "python",
   "name": "python3"
  },
  "language_info": {
   "codemirror_mode": {
    "name": "ipython",
    "version": 3
   },
   "file_extension": ".py",
   "mimetype": "text/x-python",
   "name": "python",
   "nbconvert_exporter": "python",
   "pygments_lexer": "ipython3",
   "version": "3.8.9"
  }
 },
 "nbformat": 4,
 "nbformat_minor": 5
}
